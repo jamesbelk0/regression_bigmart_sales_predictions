{
  "nbformat": 4,
  "nbformat_minor": 0,
  "metadata": {
    "colab": {
      "provenance": [],
      "authorship_tag": "ABX9TyMFil03Of81V17MpK+4sD7N",
      "include_colab_link": true
    },
    "kernelspec": {
      "name": "python3",
      "display_name": "Python 3"
    },
    "language_info": {
      "name": "python"
    }
  },
  "cells": [
    {
      "cell_type": "markdown",
      "metadata": {
        "id": "view-in-github",
        "colab_type": "text"
      },
      "source": [
        "<a href=\"https://colab.research.google.com/github/jamesbelk0/sales_predictions/blob/main/sales_predictions.ipynb\" target=\"_parent\"><img src=\"https://colab.research.google.com/assets/colab-badge.svg\" alt=\"Open In Colab\"/></a>"
      ]
    },
    {
      "cell_type": "markdown",
      "source": [
        "# Sales Predictions\n",
        "James Belk\n",
        "\n",
        "01-28-2023\n",
        "\n",
        "We will continue to work on your sales prediction project. The goal of this step is to help the retailer by using machine learning to make predictions about future sales based on the data provided.\n",
        "\n",
        "For Part 5, you will go back to your original, uncleaned, sales prediction dataset with the goal of preventing data leakage.\n",
        "\n",
        "You should reload the original data set here using pd.read_csv() to ensure there is no data leakage!\n",
        "\n",
        "* Before splitting your data, you can drop duplicates and fix inconsistencies in categorical data.* (*There is a way to do this after the split, but for this project, you may perform this step before the split)\n",
        "* Identify the features (X) and target (y): Assign the \"Item_Outlet_Sales\" column as your target and the rest of the relevant variables as your features matrix.\n",
        "* Perform a train test split\n",
        "* Create a preprocessing object to prepare the dataset for Machine Learning\n",
        "* Make sure your imputation of missing values occurs after the train test split using SimpleImputer.\n",
        "\n",
        "Commit your work to GitHub.\n",
        "\n",
        "Turn in a link to your GitHub repo! We will finalize the project next week.\n",
        "\n",
        "## Data Dictionary\n",
        "Here is the Data Dictionary for this dataset:\n",
        "\n",
        "* Variable Name\tDescription\n",
        "* Item_Identifier\tUnique product ID\n",
        "* Item_Weight\tWeight of product\n",
        "* Item_Fat_Content\tWhether the product is low fat or regular\n",
        "* Item_Visibility\tThe percentage of total display area of all products in a store allocated to the particular product\n",
        "* Item_Type\tThe category to which the product belongs\n",
        "* Item_MRP\tMaximum Retail Price (list price) of the product\n",
        "* Outlet_Identifier\tUnique store ID\n",
        "* Outlet_Establishment_Year\tThe year in which store was established\n",
        "* Outlet_Size\tThe size of the store in terms of ground area covered\n",
        "* Outlet_Location_Type\tThe type of area in which the store is located\n",
        "* Outlet_Type\tWhether the outlet is a grocery store or some sort of supermarket\n",
        "* Item_Outlet_Sales\tSales of the product in the particular store. This is the target variable to be predicted.\n",
        "\n"
      ],
      "metadata": {
        "id": "OyOJJnFRjI22"
      }
    },
    {
      "cell_type": "markdown",
      "source": [
        "## Import and Load Data"
      ],
      "metadata": {
        "id": "h7zOH0Caj6s5"
      }
    },
    {
      "cell_type": "code",
      "execution_count": 1,
      "metadata": {
        "id": "R1G5gFxSLJY8"
      },
      "outputs": [],
      "source": [
        "# Imports\n",
        "import pandas as pd\n",
        "import numpy as np\n",
        "from sklearn.preprocessing import StandardScaler, OneHotEncoder, OrdinalEncoder\n",
        "from sklearn.impute import SimpleImputer\n",
        "from sklearn.compose import make_column_transformer, make_column_selector\n",
        "from sklearn.pipeline import make_pipeline\n",
        "from sklearn.model_selection import train_test_split\n",
        "from sklearn import set_config\n",
        "set_config(display='diagram')"
      ]
    },
    {
      "cell_type": "code",
      "source": [
        "# Loading Data\n",
        "filename = '/content/sales_predictions.csv'\n",
        "\n",
        "df = pd.read_csv(filename)\n",
        "df.head()"
      ],
      "metadata": {
        "colab": {
          "base_uri": "https://localhost:8080/",
          "height": 357
        },
        "id": "rzW_RM6YkCsO",
        "outputId": "05f0f856-efe2-43f2-9c6d-e83ab3683bbb"
      },
      "execution_count": 2,
      "outputs": [
        {
          "output_type": "execute_result",
          "data": {
            "text/plain": [
              "  Item_Identifier  Item_Weight Item_Fat_Content  Item_Visibility  \\\n",
              "0           FDA15         9.30          Low Fat         0.016047   \n",
              "1           DRC01         5.92          Regular         0.019278   \n",
              "2           FDN15        17.50          Low Fat         0.016760   \n",
              "3           FDX07        19.20          Regular         0.000000   \n",
              "4           NCD19         8.93          Low Fat         0.000000   \n",
              "\n",
              "               Item_Type  Item_MRP Outlet_Identifier  \\\n",
              "0                  Dairy  249.8092            OUT049   \n",
              "1            Soft Drinks   48.2692            OUT018   \n",
              "2                   Meat  141.6180            OUT049   \n",
              "3  Fruits and Vegetables  182.0950            OUT010   \n",
              "4              Household   53.8614            OUT013   \n",
              "\n",
              "   Outlet_Establishment_Year Outlet_Size Outlet_Location_Type  \\\n",
              "0                       1999      Medium               Tier 1   \n",
              "1                       2009      Medium               Tier 3   \n",
              "2                       1999      Medium               Tier 1   \n",
              "3                       1998         NaN               Tier 3   \n",
              "4                       1987        High               Tier 3   \n",
              "\n",
              "         Outlet_Type  Item_Outlet_Sales  \n",
              "0  Supermarket Type1          3735.1380  \n",
              "1  Supermarket Type2           443.4228  \n",
              "2  Supermarket Type1          2097.2700  \n",
              "3      Grocery Store           732.3800  \n",
              "4  Supermarket Type1           994.7052  "
            ],
            "text/html": [
              "\n",
              "  <div id=\"df-04237f87-f4cf-49aa-8aef-d9546706ec4d\">\n",
              "    <div class=\"colab-df-container\">\n",
              "      <div>\n",
              "<style scoped>\n",
              "    .dataframe tbody tr th:only-of-type {\n",
              "        vertical-align: middle;\n",
              "    }\n",
              "\n",
              "    .dataframe tbody tr th {\n",
              "        vertical-align: top;\n",
              "    }\n",
              "\n",
              "    .dataframe thead th {\n",
              "        text-align: right;\n",
              "    }\n",
              "</style>\n",
              "<table border=\"1\" class=\"dataframe\">\n",
              "  <thead>\n",
              "    <tr style=\"text-align: right;\">\n",
              "      <th></th>\n",
              "      <th>Item_Identifier</th>\n",
              "      <th>Item_Weight</th>\n",
              "      <th>Item_Fat_Content</th>\n",
              "      <th>Item_Visibility</th>\n",
              "      <th>Item_Type</th>\n",
              "      <th>Item_MRP</th>\n",
              "      <th>Outlet_Identifier</th>\n",
              "      <th>Outlet_Establishment_Year</th>\n",
              "      <th>Outlet_Size</th>\n",
              "      <th>Outlet_Location_Type</th>\n",
              "      <th>Outlet_Type</th>\n",
              "      <th>Item_Outlet_Sales</th>\n",
              "    </tr>\n",
              "  </thead>\n",
              "  <tbody>\n",
              "    <tr>\n",
              "      <th>0</th>\n",
              "      <td>FDA15</td>\n",
              "      <td>9.30</td>\n",
              "      <td>Low Fat</td>\n",
              "      <td>0.016047</td>\n",
              "      <td>Dairy</td>\n",
              "      <td>249.8092</td>\n",
              "      <td>OUT049</td>\n",
              "      <td>1999</td>\n",
              "      <td>Medium</td>\n",
              "      <td>Tier 1</td>\n",
              "      <td>Supermarket Type1</td>\n",
              "      <td>3735.1380</td>\n",
              "    </tr>\n",
              "    <tr>\n",
              "      <th>1</th>\n",
              "      <td>DRC01</td>\n",
              "      <td>5.92</td>\n",
              "      <td>Regular</td>\n",
              "      <td>0.019278</td>\n",
              "      <td>Soft Drinks</td>\n",
              "      <td>48.2692</td>\n",
              "      <td>OUT018</td>\n",
              "      <td>2009</td>\n",
              "      <td>Medium</td>\n",
              "      <td>Tier 3</td>\n",
              "      <td>Supermarket Type2</td>\n",
              "      <td>443.4228</td>\n",
              "    </tr>\n",
              "    <tr>\n",
              "      <th>2</th>\n",
              "      <td>FDN15</td>\n",
              "      <td>17.50</td>\n",
              "      <td>Low Fat</td>\n",
              "      <td>0.016760</td>\n",
              "      <td>Meat</td>\n",
              "      <td>141.6180</td>\n",
              "      <td>OUT049</td>\n",
              "      <td>1999</td>\n",
              "      <td>Medium</td>\n",
              "      <td>Tier 1</td>\n",
              "      <td>Supermarket Type1</td>\n",
              "      <td>2097.2700</td>\n",
              "    </tr>\n",
              "    <tr>\n",
              "      <th>3</th>\n",
              "      <td>FDX07</td>\n",
              "      <td>19.20</td>\n",
              "      <td>Regular</td>\n",
              "      <td>0.000000</td>\n",
              "      <td>Fruits and Vegetables</td>\n",
              "      <td>182.0950</td>\n",
              "      <td>OUT010</td>\n",
              "      <td>1998</td>\n",
              "      <td>NaN</td>\n",
              "      <td>Tier 3</td>\n",
              "      <td>Grocery Store</td>\n",
              "      <td>732.3800</td>\n",
              "    </tr>\n",
              "    <tr>\n",
              "      <th>4</th>\n",
              "      <td>NCD19</td>\n",
              "      <td>8.93</td>\n",
              "      <td>Low Fat</td>\n",
              "      <td>0.000000</td>\n",
              "      <td>Household</td>\n",
              "      <td>53.8614</td>\n",
              "      <td>OUT013</td>\n",
              "      <td>1987</td>\n",
              "      <td>High</td>\n",
              "      <td>Tier 3</td>\n",
              "      <td>Supermarket Type1</td>\n",
              "      <td>994.7052</td>\n",
              "    </tr>\n",
              "  </tbody>\n",
              "</table>\n",
              "</div>\n",
              "      <button class=\"colab-df-convert\" onclick=\"convertToInteractive('df-04237f87-f4cf-49aa-8aef-d9546706ec4d')\"\n",
              "              title=\"Convert this dataframe to an interactive table.\"\n",
              "              style=\"display:none;\">\n",
              "        \n",
              "  <svg xmlns=\"http://www.w3.org/2000/svg\" height=\"24px\"viewBox=\"0 0 24 24\"\n",
              "       width=\"24px\">\n",
              "    <path d=\"M0 0h24v24H0V0z\" fill=\"none\"/>\n",
              "    <path d=\"M18.56 5.44l.94 2.06.94-2.06 2.06-.94-2.06-.94-.94-2.06-.94 2.06-2.06.94zm-11 1L8.5 8.5l.94-2.06 2.06-.94-2.06-.94L8.5 2.5l-.94 2.06-2.06.94zm10 10l.94 2.06.94-2.06 2.06-.94-2.06-.94-.94-2.06-.94 2.06-2.06.94z\"/><path d=\"M17.41 7.96l-1.37-1.37c-.4-.4-.92-.59-1.43-.59-.52 0-1.04.2-1.43.59L10.3 9.45l-7.72 7.72c-.78.78-.78 2.05 0 2.83L4 21.41c.39.39.9.59 1.41.59.51 0 1.02-.2 1.41-.59l7.78-7.78 2.81-2.81c.8-.78.8-2.07 0-2.86zM5.41 20L4 18.59l7.72-7.72 1.47 1.35L5.41 20z\"/>\n",
              "  </svg>\n",
              "      </button>\n",
              "      \n",
              "  <style>\n",
              "    .colab-df-container {\n",
              "      display:flex;\n",
              "      flex-wrap:wrap;\n",
              "      gap: 12px;\n",
              "    }\n",
              "\n",
              "    .colab-df-convert {\n",
              "      background-color: #E8F0FE;\n",
              "      border: none;\n",
              "      border-radius: 50%;\n",
              "      cursor: pointer;\n",
              "      display: none;\n",
              "      fill: #1967D2;\n",
              "      height: 32px;\n",
              "      padding: 0 0 0 0;\n",
              "      width: 32px;\n",
              "    }\n",
              "\n",
              "    .colab-df-convert:hover {\n",
              "      background-color: #E2EBFA;\n",
              "      box-shadow: 0px 1px 2px rgba(60, 64, 67, 0.3), 0px 1px 3px 1px rgba(60, 64, 67, 0.15);\n",
              "      fill: #174EA6;\n",
              "    }\n",
              "\n",
              "    [theme=dark] .colab-df-convert {\n",
              "      background-color: #3B4455;\n",
              "      fill: #D2E3FC;\n",
              "    }\n",
              "\n",
              "    [theme=dark] .colab-df-convert:hover {\n",
              "      background-color: #434B5C;\n",
              "      box-shadow: 0px 1px 3px 1px rgba(0, 0, 0, 0.15);\n",
              "      filter: drop-shadow(0px 1px 2px rgba(0, 0, 0, 0.3));\n",
              "      fill: #FFFFFF;\n",
              "    }\n",
              "  </style>\n",
              "\n",
              "      <script>\n",
              "        const buttonEl =\n",
              "          document.querySelector('#df-04237f87-f4cf-49aa-8aef-d9546706ec4d button.colab-df-convert');\n",
              "        buttonEl.style.display =\n",
              "          google.colab.kernel.accessAllowed ? 'block' : 'none';\n",
              "\n",
              "        async function convertToInteractive(key) {\n",
              "          const element = document.querySelector('#df-04237f87-f4cf-49aa-8aef-d9546706ec4d');\n",
              "          const dataTable =\n",
              "            await google.colab.kernel.invokeFunction('convertToInteractive',\n",
              "                                                     [key], {});\n",
              "          if (!dataTable) return;\n",
              "\n",
              "          const docLinkHtml = 'Like what you see? Visit the ' +\n",
              "            '<a target=\"_blank\" href=https://colab.research.google.com/notebooks/data_table.ipynb>data table notebook</a>'\n",
              "            + ' to learn more about interactive tables.';\n",
              "          element.innerHTML = '';\n",
              "          dataTable['output_type'] = 'display_data';\n",
              "          await google.colab.output.renderOutput(dataTable, element);\n",
              "          const docLink = document.createElement('div');\n",
              "          docLink.innerHTML = docLinkHtml;\n",
              "          element.appendChild(docLink);\n",
              "        }\n",
              "      </script>\n",
              "    </div>\n",
              "  </div>\n",
              "  "
            ]
          },
          "metadata": {},
          "execution_count": 2
        }
      ]
    },
    {
      "cell_type": "code",
      "source": [
        "df.info()"
      ],
      "metadata": {
        "colab": {
          "base_uri": "https://localhost:8080/"
        },
        "id": "Wi4lJ-S5kPbr",
        "outputId": "b7f54b37-f609-4eef-878a-9704cf98d7ef"
      },
      "execution_count": 3,
      "outputs": [
        {
          "output_type": "stream",
          "name": "stdout",
          "text": [
            "<class 'pandas.core.frame.DataFrame'>\n",
            "RangeIndex: 8523 entries, 0 to 8522\n",
            "Data columns (total 12 columns):\n",
            " #   Column                     Non-Null Count  Dtype  \n",
            "---  ------                     --------------  -----  \n",
            " 0   Item_Identifier            8523 non-null   object \n",
            " 1   Item_Weight                7060 non-null   float64\n",
            " 2   Item_Fat_Content           8523 non-null   object \n",
            " 3   Item_Visibility            8523 non-null   float64\n",
            " 4   Item_Type                  8523 non-null   object \n",
            " 5   Item_MRP                   8523 non-null   float64\n",
            " 6   Outlet_Identifier          8523 non-null   object \n",
            " 7   Outlet_Establishment_Year  8523 non-null   int64  \n",
            " 8   Outlet_Size                6113 non-null   object \n",
            " 9   Outlet_Location_Type       8523 non-null   object \n",
            " 10  Outlet_Type                8523 non-null   object \n",
            " 11  Item_Outlet_Sales          8523 non-null   float64\n",
            "dtypes: float64(4), int64(1), object(7)\n",
            "memory usage: 799.2+ KB\n"
          ]
        }
      ]
    },
    {
      "cell_type": "markdown",
      "source": [
        "Copy of the Original DataFrame"
      ],
      "metadata": {
        "id": "kAZYc_8bko4K"
      }
    },
    {
      "cell_type": "code",
      "source": [
        "sale_df = df.copy()\n",
        "sale_df.head()"
      ],
      "metadata": {
        "colab": {
          "base_uri": "https://localhost:8080/",
          "height": 357
        },
        "id": "HEyvSMAQksl2",
        "outputId": "3c066a61-5360-4892-fcfa-f627758ecc89"
      },
      "execution_count": 4,
      "outputs": [
        {
          "output_type": "execute_result",
          "data": {
            "text/plain": [
              "  Item_Identifier  Item_Weight Item_Fat_Content  Item_Visibility  \\\n",
              "0           FDA15         9.30          Low Fat         0.016047   \n",
              "1           DRC01         5.92          Regular         0.019278   \n",
              "2           FDN15        17.50          Low Fat         0.016760   \n",
              "3           FDX07        19.20          Regular         0.000000   \n",
              "4           NCD19         8.93          Low Fat         0.000000   \n",
              "\n",
              "               Item_Type  Item_MRP Outlet_Identifier  \\\n",
              "0                  Dairy  249.8092            OUT049   \n",
              "1            Soft Drinks   48.2692            OUT018   \n",
              "2                   Meat  141.6180            OUT049   \n",
              "3  Fruits and Vegetables  182.0950            OUT010   \n",
              "4              Household   53.8614            OUT013   \n",
              "\n",
              "   Outlet_Establishment_Year Outlet_Size Outlet_Location_Type  \\\n",
              "0                       1999      Medium               Tier 1   \n",
              "1                       2009      Medium               Tier 3   \n",
              "2                       1999      Medium               Tier 1   \n",
              "3                       1998         NaN               Tier 3   \n",
              "4                       1987        High               Tier 3   \n",
              "\n",
              "         Outlet_Type  Item_Outlet_Sales  \n",
              "0  Supermarket Type1          3735.1380  \n",
              "1  Supermarket Type2           443.4228  \n",
              "2  Supermarket Type1          2097.2700  \n",
              "3      Grocery Store           732.3800  \n",
              "4  Supermarket Type1           994.7052  "
            ],
            "text/html": [
              "\n",
              "  <div id=\"df-3df255de-16a9-40ae-8583-a9e821de43e6\">\n",
              "    <div class=\"colab-df-container\">\n",
              "      <div>\n",
              "<style scoped>\n",
              "    .dataframe tbody tr th:only-of-type {\n",
              "        vertical-align: middle;\n",
              "    }\n",
              "\n",
              "    .dataframe tbody tr th {\n",
              "        vertical-align: top;\n",
              "    }\n",
              "\n",
              "    .dataframe thead th {\n",
              "        text-align: right;\n",
              "    }\n",
              "</style>\n",
              "<table border=\"1\" class=\"dataframe\">\n",
              "  <thead>\n",
              "    <tr style=\"text-align: right;\">\n",
              "      <th></th>\n",
              "      <th>Item_Identifier</th>\n",
              "      <th>Item_Weight</th>\n",
              "      <th>Item_Fat_Content</th>\n",
              "      <th>Item_Visibility</th>\n",
              "      <th>Item_Type</th>\n",
              "      <th>Item_MRP</th>\n",
              "      <th>Outlet_Identifier</th>\n",
              "      <th>Outlet_Establishment_Year</th>\n",
              "      <th>Outlet_Size</th>\n",
              "      <th>Outlet_Location_Type</th>\n",
              "      <th>Outlet_Type</th>\n",
              "      <th>Item_Outlet_Sales</th>\n",
              "    </tr>\n",
              "  </thead>\n",
              "  <tbody>\n",
              "    <tr>\n",
              "      <th>0</th>\n",
              "      <td>FDA15</td>\n",
              "      <td>9.30</td>\n",
              "      <td>Low Fat</td>\n",
              "      <td>0.016047</td>\n",
              "      <td>Dairy</td>\n",
              "      <td>249.8092</td>\n",
              "      <td>OUT049</td>\n",
              "      <td>1999</td>\n",
              "      <td>Medium</td>\n",
              "      <td>Tier 1</td>\n",
              "      <td>Supermarket Type1</td>\n",
              "      <td>3735.1380</td>\n",
              "    </tr>\n",
              "    <tr>\n",
              "      <th>1</th>\n",
              "      <td>DRC01</td>\n",
              "      <td>5.92</td>\n",
              "      <td>Regular</td>\n",
              "      <td>0.019278</td>\n",
              "      <td>Soft Drinks</td>\n",
              "      <td>48.2692</td>\n",
              "      <td>OUT018</td>\n",
              "      <td>2009</td>\n",
              "      <td>Medium</td>\n",
              "      <td>Tier 3</td>\n",
              "      <td>Supermarket Type2</td>\n",
              "      <td>443.4228</td>\n",
              "    </tr>\n",
              "    <tr>\n",
              "      <th>2</th>\n",
              "      <td>FDN15</td>\n",
              "      <td>17.50</td>\n",
              "      <td>Low Fat</td>\n",
              "      <td>0.016760</td>\n",
              "      <td>Meat</td>\n",
              "      <td>141.6180</td>\n",
              "      <td>OUT049</td>\n",
              "      <td>1999</td>\n",
              "      <td>Medium</td>\n",
              "      <td>Tier 1</td>\n",
              "      <td>Supermarket Type1</td>\n",
              "      <td>2097.2700</td>\n",
              "    </tr>\n",
              "    <tr>\n",
              "      <th>3</th>\n",
              "      <td>FDX07</td>\n",
              "      <td>19.20</td>\n",
              "      <td>Regular</td>\n",
              "      <td>0.000000</td>\n",
              "      <td>Fruits and Vegetables</td>\n",
              "      <td>182.0950</td>\n",
              "      <td>OUT010</td>\n",
              "      <td>1998</td>\n",
              "      <td>NaN</td>\n",
              "      <td>Tier 3</td>\n",
              "      <td>Grocery Store</td>\n",
              "      <td>732.3800</td>\n",
              "    </tr>\n",
              "    <tr>\n",
              "      <th>4</th>\n",
              "      <td>NCD19</td>\n",
              "      <td>8.93</td>\n",
              "      <td>Low Fat</td>\n",
              "      <td>0.000000</td>\n",
              "      <td>Household</td>\n",
              "      <td>53.8614</td>\n",
              "      <td>OUT013</td>\n",
              "      <td>1987</td>\n",
              "      <td>High</td>\n",
              "      <td>Tier 3</td>\n",
              "      <td>Supermarket Type1</td>\n",
              "      <td>994.7052</td>\n",
              "    </tr>\n",
              "  </tbody>\n",
              "</table>\n",
              "</div>\n",
              "      <button class=\"colab-df-convert\" onclick=\"convertToInteractive('df-3df255de-16a9-40ae-8583-a9e821de43e6')\"\n",
              "              title=\"Convert this dataframe to an interactive table.\"\n",
              "              style=\"display:none;\">\n",
              "        \n",
              "  <svg xmlns=\"http://www.w3.org/2000/svg\" height=\"24px\"viewBox=\"0 0 24 24\"\n",
              "       width=\"24px\">\n",
              "    <path d=\"M0 0h24v24H0V0z\" fill=\"none\"/>\n",
              "    <path d=\"M18.56 5.44l.94 2.06.94-2.06 2.06-.94-2.06-.94-.94-2.06-.94 2.06-2.06.94zm-11 1L8.5 8.5l.94-2.06 2.06-.94-2.06-.94L8.5 2.5l-.94 2.06-2.06.94zm10 10l.94 2.06.94-2.06 2.06-.94-2.06-.94-.94-2.06-.94 2.06-2.06.94z\"/><path d=\"M17.41 7.96l-1.37-1.37c-.4-.4-.92-.59-1.43-.59-.52 0-1.04.2-1.43.59L10.3 9.45l-7.72 7.72c-.78.78-.78 2.05 0 2.83L4 21.41c.39.39.9.59 1.41.59.51 0 1.02-.2 1.41-.59l7.78-7.78 2.81-2.81c.8-.78.8-2.07 0-2.86zM5.41 20L4 18.59l7.72-7.72 1.47 1.35L5.41 20z\"/>\n",
              "  </svg>\n",
              "      </button>\n",
              "      \n",
              "  <style>\n",
              "    .colab-df-container {\n",
              "      display:flex;\n",
              "      flex-wrap:wrap;\n",
              "      gap: 12px;\n",
              "    }\n",
              "\n",
              "    .colab-df-convert {\n",
              "      background-color: #E8F0FE;\n",
              "      border: none;\n",
              "      border-radius: 50%;\n",
              "      cursor: pointer;\n",
              "      display: none;\n",
              "      fill: #1967D2;\n",
              "      height: 32px;\n",
              "      padding: 0 0 0 0;\n",
              "      width: 32px;\n",
              "    }\n",
              "\n",
              "    .colab-df-convert:hover {\n",
              "      background-color: #E2EBFA;\n",
              "      box-shadow: 0px 1px 2px rgba(60, 64, 67, 0.3), 0px 1px 3px 1px rgba(60, 64, 67, 0.15);\n",
              "      fill: #174EA6;\n",
              "    }\n",
              "\n",
              "    [theme=dark] .colab-df-convert {\n",
              "      background-color: #3B4455;\n",
              "      fill: #D2E3FC;\n",
              "    }\n",
              "\n",
              "    [theme=dark] .colab-df-convert:hover {\n",
              "      background-color: #434B5C;\n",
              "      box-shadow: 0px 1px 3px 1px rgba(0, 0, 0, 0.15);\n",
              "      filter: drop-shadow(0px 1px 2px rgba(0, 0, 0, 0.3));\n",
              "      fill: #FFFFFF;\n",
              "    }\n",
              "  </style>\n",
              "\n",
              "      <script>\n",
              "        const buttonEl =\n",
              "          document.querySelector('#df-3df255de-16a9-40ae-8583-a9e821de43e6 button.colab-df-convert');\n",
              "        buttonEl.style.display =\n",
              "          google.colab.kernel.accessAllowed ? 'block' : 'none';\n",
              "\n",
              "        async function convertToInteractive(key) {\n",
              "          const element = document.querySelector('#df-3df255de-16a9-40ae-8583-a9e821de43e6');\n",
              "          const dataTable =\n",
              "            await google.colab.kernel.invokeFunction('convertToInteractive',\n",
              "                                                     [key], {});\n",
              "          if (!dataTable) return;\n",
              "\n",
              "          const docLinkHtml = 'Like what you see? Visit the ' +\n",
              "            '<a target=\"_blank\" href=https://colab.research.google.com/notebooks/data_table.ipynb>data table notebook</a>'\n",
              "            + ' to learn more about interactive tables.';\n",
              "          element.innerHTML = '';\n",
              "          dataTable['output_type'] = 'display_data';\n",
              "          await google.colab.output.renderOutput(dataTable, element);\n",
              "          const docLink = document.createElement('div');\n",
              "          docLink.innerHTML = docLinkHtml;\n",
              "          element.appendChild(docLink);\n",
              "        }\n",
              "      </script>\n",
              "    </div>\n",
              "  </div>\n",
              "  "
            ]
          },
          "metadata": {},
          "execution_count": 4
        }
      ]
    },
    {
      "cell_type": "markdown",
      "source": [
        "## Check for Duplicated, Missing, or Erroneous Data"
      ],
      "metadata": {
        "id": "UGQS1CPplAaC"
      }
    },
    {
      "cell_type": "code",
      "source": [
        "# Display the sum of missing values\n",
        "sale_df.isna().sum().sum()"
      ],
      "metadata": {
        "colab": {
          "base_uri": "https://localhost:8080/"
        },
        "id": "EHaZVx0HlDdu",
        "outputId": "e88aec98-0298-4bdb-bcfe-52e0500b260a"
      },
      "execution_count": 5,
      "outputs": [
        {
          "output_type": "execute_result",
          "data": {
            "text/plain": [
              "3873"
            ]
          },
          "metadata": {},
          "execution_count": 5
        }
      ]
    },
    {
      "cell_type": "code",
      "source": [
        "# Display the sum of missing values\n",
        "sale_df.isna().sum()"
      ],
      "metadata": {
        "colab": {
          "base_uri": "https://localhost:8080/"
        },
        "id": "e5usDCiwlJ7n",
        "outputId": "2d2abef3-b63b-4b5f-bbf5-191670464b45"
      },
      "execution_count": 6,
      "outputs": [
        {
          "output_type": "execute_result",
          "data": {
            "text/plain": [
              "Item_Identifier                 0\n",
              "Item_Weight                  1463\n",
              "Item_Fat_Content                0\n",
              "Item_Visibility                 0\n",
              "Item_Type                       0\n",
              "Item_MRP                        0\n",
              "Outlet_Identifier               0\n",
              "Outlet_Establishment_Year       0\n",
              "Outlet_Size                  2410\n",
              "Outlet_Location_Type            0\n",
              "Outlet_Type                     0\n",
              "Item_Outlet_Sales               0\n",
              "dtype: int64"
            ]
          },
          "metadata": {},
          "execution_count": 6
        }
      ]
    },
    {
      "cell_type": "code",
      "source": [
        "# Checking for duplicate rows\n",
        "sale_df.duplicated().sum()"
      ],
      "metadata": {
        "colab": {
          "base_uri": "https://localhost:8080/"
        },
        "id": "XAZ_8m-ilR5W",
        "outputId": "867c4f8f-cba5-464a-c345-457d4d0ce729"
      },
      "execution_count": 7,
      "outputs": [
        {
          "output_type": "execute_result",
          "data": {
            "text/plain": [
              "0"
            ]
          },
          "metadata": {},
          "execution_count": 7
        }
      ]
    },
    {
      "cell_type": "code",
      "source": [
        "sale_df.describe()"
      ],
      "metadata": {
        "colab": {
          "base_uri": "https://localhost:8080/",
          "height": 300
        },
        "id": "GY_UgYqxl66Z",
        "outputId": "73c25a21-8c9c-46a2-a637-f2030fdf82d8"
      },
      "execution_count": 8,
      "outputs": [
        {
          "output_type": "execute_result",
          "data": {
            "text/plain": [
              "       Item_Weight  Item_Visibility     Item_MRP  Outlet_Establishment_Year  \\\n",
              "count  7060.000000      8523.000000  8523.000000                8523.000000   \n",
              "mean     12.857645         0.066132   140.992782                1997.831867   \n",
              "std       4.643456         0.051598    62.275067                   8.371760   \n",
              "min       4.555000         0.000000    31.290000                1985.000000   \n",
              "25%       8.773750         0.026989    93.826500                1987.000000   \n",
              "50%      12.600000         0.053931   143.012800                1999.000000   \n",
              "75%      16.850000         0.094585   185.643700                2004.000000   \n",
              "max      21.350000         0.328391   266.888400                2009.000000   \n",
              "\n",
              "       Item_Outlet_Sales  \n",
              "count        8523.000000  \n",
              "mean         2181.288914  \n",
              "std          1706.499616  \n",
              "min            33.290000  \n",
              "25%           834.247400  \n",
              "50%          1794.331000  \n",
              "75%          3101.296400  \n",
              "max         13086.964800  "
            ],
            "text/html": [
              "\n",
              "  <div id=\"df-adc75389-e532-4bf8-b61b-1c3e472ee5b3\">\n",
              "    <div class=\"colab-df-container\">\n",
              "      <div>\n",
              "<style scoped>\n",
              "    .dataframe tbody tr th:only-of-type {\n",
              "        vertical-align: middle;\n",
              "    }\n",
              "\n",
              "    .dataframe tbody tr th {\n",
              "        vertical-align: top;\n",
              "    }\n",
              "\n",
              "    .dataframe thead th {\n",
              "        text-align: right;\n",
              "    }\n",
              "</style>\n",
              "<table border=\"1\" class=\"dataframe\">\n",
              "  <thead>\n",
              "    <tr style=\"text-align: right;\">\n",
              "      <th></th>\n",
              "      <th>Item_Weight</th>\n",
              "      <th>Item_Visibility</th>\n",
              "      <th>Item_MRP</th>\n",
              "      <th>Outlet_Establishment_Year</th>\n",
              "      <th>Item_Outlet_Sales</th>\n",
              "    </tr>\n",
              "  </thead>\n",
              "  <tbody>\n",
              "    <tr>\n",
              "      <th>count</th>\n",
              "      <td>7060.000000</td>\n",
              "      <td>8523.000000</td>\n",
              "      <td>8523.000000</td>\n",
              "      <td>8523.000000</td>\n",
              "      <td>8523.000000</td>\n",
              "    </tr>\n",
              "    <tr>\n",
              "      <th>mean</th>\n",
              "      <td>12.857645</td>\n",
              "      <td>0.066132</td>\n",
              "      <td>140.992782</td>\n",
              "      <td>1997.831867</td>\n",
              "      <td>2181.288914</td>\n",
              "    </tr>\n",
              "    <tr>\n",
              "      <th>std</th>\n",
              "      <td>4.643456</td>\n",
              "      <td>0.051598</td>\n",
              "      <td>62.275067</td>\n",
              "      <td>8.371760</td>\n",
              "      <td>1706.499616</td>\n",
              "    </tr>\n",
              "    <tr>\n",
              "      <th>min</th>\n",
              "      <td>4.555000</td>\n",
              "      <td>0.000000</td>\n",
              "      <td>31.290000</td>\n",
              "      <td>1985.000000</td>\n",
              "      <td>33.290000</td>\n",
              "    </tr>\n",
              "    <tr>\n",
              "      <th>25%</th>\n",
              "      <td>8.773750</td>\n",
              "      <td>0.026989</td>\n",
              "      <td>93.826500</td>\n",
              "      <td>1987.000000</td>\n",
              "      <td>834.247400</td>\n",
              "    </tr>\n",
              "    <tr>\n",
              "      <th>50%</th>\n",
              "      <td>12.600000</td>\n",
              "      <td>0.053931</td>\n",
              "      <td>143.012800</td>\n",
              "      <td>1999.000000</td>\n",
              "      <td>1794.331000</td>\n",
              "    </tr>\n",
              "    <tr>\n",
              "      <th>75%</th>\n",
              "      <td>16.850000</td>\n",
              "      <td>0.094585</td>\n",
              "      <td>185.643700</td>\n",
              "      <td>2004.000000</td>\n",
              "      <td>3101.296400</td>\n",
              "    </tr>\n",
              "    <tr>\n",
              "      <th>max</th>\n",
              "      <td>21.350000</td>\n",
              "      <td>0.328391</td>\n",
              "      <td>266.888400</td>\n",
              "      <td>2009.000000</td>\n",
              "      <td>13086.964800</td>\n",
              "    </tr>\n",
              "  </tbody>\n",
              "</table>\n",
              "</div>\n",
              "      <button class=\"colab-df-convert\" onclick=\"convertToInteractive('df-adc75389-e532-4bf8-b61b-1c3e472ee5b3')\"\n",
              "              title=\"Convert this dataframe to an interactive table.\"\n",
              "              style=\"display:none;\">\n",
              "        \n",
              "  <svg xmlns=\"http://www.w3.org/2000/svg\" height=\"24px\"viewBox=\"0 0 24 24\"\n",
              "       width=\"24px\">\n",
              "    <path d=\"M0 0h24v24H0V0z\" fill=\"none\"/>\n",
              "    <path d=\"M18.56 5.44l.94 2.06.94-2.06 2.06-.94-2.06-.94-.94-2.06-.94 2.06-2.06.94zm-11 1L8.5 8.5l.94-2.06 2.06-.94-2.06-.94L8.5 2.5l-.94 2.06-2.06.94zm10 10l.94 2.06.94-2.06 2.06-.94-2.06-.94-.94-2.06-.94 2.06-2.06.94z\"/><path d=\"M17.41 7.96l-1.37-1.37c-.4-.4-.92-.59-1.43-.59-.52 0-1.04.2-1.43.59L10.3 9.45l-7.72 7.72c-.78.78-.78 2.05 0 2.83L4 21.41c.39.39.9.59 1.41.59.51 0 1.02-.2 1.41-.59l7.78-7.78 2.81-2.81c.8-.78.8-2.07 0-2.86zM5.41 20L4 18.59l7.72-7.72 1.47 1.35L5.41 20z\"/>\n",
              "  </svg>\n",
              "      </button>\n",
              "      \n",
              "  <style>\n",
              "    .colab-df-container {\n",
              "      display:flex;\n",
              "      flex-wrap:wrap;\n",
              "      gap: 12px;\n",
              "    }\n",
              "\n",
              "    .colab-df-convert {\n",
              "      background-color: #E8F0FE;\n",
              "      border: none;\n",
              "      border-radius: 50%;\n",
              "      cursor: pointer;\n",
              "      display: none;\n",
              "      fill: #1967D2;\n",
              "      height: 32px;\n",
              "      padding: 0 0 0 0;\n",
              "      width: 32px;\n",
              "    }\n",
              "\n",
              "    .colab-df-convert:hover {\n",
              "      background-color: #E2EBFA;\n",
              "      box-shadow: 0px 1px 2px rgba(60, 64, 67, 0.3), 0px 1px 3px 1px rgba(60, 64, 67, 0.15);\n",
              "      fill: #174EA6;\n",
              "    }\n",
              "\n",
              "    [theme=dark] .colab-df-convert {\n",
              "      background-color: #3B4455;\n",
              "      fill: #D2E3FC;\n",
              "    }\n",
              "\n",
              "    [theme=dark] .colab-df-convert:hover {\n",
              "      background-color: #434B5C;\n",
              "      box-shadow: 0px 1px 3px 1px rgba(0, 0, 0, 0.15);\n",
              "      filter: drop-shadow(0px 1px 2px rgba(0, 0, 0, 0.3));\n",
              "      fill: #FFFFFF;\n",
              "    }\n",
              "  </style>\n",
              "\n",
              "      <script>\n",
              "        const buttonEl =\n",
              "          document.querySelector('#df-adc75389-e532-4bf8-b61b-1c3e472ee5b3 button.colab-df-convert');\n",
              "        buttonEl.style.display =\n",
              "          google.colab.kernel.accessAllowed ? 'block' : 'none';\n",
              "\n",
              "        async function convertToInteractive(key) {\n",
              "          const element = document.querySelector('#df-adc75389-e532-4bf8-b61b-1c3e472ee5b3');\n",
              "          const dataTable =\n",
              "            await google.colab.kernel.invokeFunction('convertToInteractive',\n",
              "                                                     [key], {});\n",
              "          if (!dataTable) return;\n",
              "\n",
              "          const docLinkHtml = 'Like what you see? Visit the ' +\n",
              "            '<a target=\"_blank\" href=https://colab.research.google.com/notebooks/data_table.ipynb>data table notebook</a>'\n",
              "            + ' to learn more about interactive tables.';\n",
              "          element.innerHTML = '';\n",
              "          dataTable['output_type'] = 'display_data';\n",
              "          await google.colab.output.renderOutput(dataTable, element);\n",
              "          const docLink = document.createElement('div');\n",
              "          docLink.innerHTML = docLinkHtml;\n",
              "          element.appendChild(docLink);\n",
              "        }\n",
              "      </script>\n",
              "    </div>\n",
              "  </div>\n",
              "  "
            ]
          },
          "metadata": {},
          "execution_count": 8
        }
      ]
    },
    {
      "cell_type": "markdown",
      "source": [
        "## Ordinal Encoder"
      ],
      "metadata": {
        "id": "NSS4wUH4qQUT"
      }
    },
    {
      "cell_type": "code",
      "source": [
        "# Checking value names\n",
        "sale_df['Outlet_Size'].value_counts()"
      ],
      "metadata": {
        "colab": {
          "base_uri": "https://localhost:8080/"
        },
        "id": "Yu1lH6g2qgrf",
        "outputId": "1a6a027c-e401-487f-99c8-54d19a5a040f"
      },
      "execution_count": 9,
      "outputs": [
        {
          "output_type": "execute_result",
          "data": {
            "text/plain": [
              "Medium    2793\n",
              "Small     2388\n",
              "High       932\n",
              "Name: Outlet_Size, dtype: int64"
            ]
          },
          "metadata": {},
          "execution_count": 9
        }
      ]
    },
    {
      "cell_type": "code",
      "source": [
        "# Ordinal Encoder\n",
        "sale_df['Outlet_Size'].replace({'Small':0, 'Medium':1, 'High':2}, inplace = True)\n",
        "sale_df['Outlet_Size'].value_counts()"
      ],
      "metadata": {
        "colab": {
          "base_uri": "https://localhost:8080/"
        },
        "id": "kek_aytbqqdQ",
        "outputId": "18d45656-c1cd-47d3-c3de-52105b5645d4"
      },
      "execution_count": 10,
      "outputs": [
        {
          "output_type": "execute_result",
          "data": {
            "text/plain": [
              "1.0    2793\n",
              "0.0    2388\n",
              "2.0     932\n",
              "Name: Outlet_Size, dtype: int64"
            ]
          },
          "metadata": {},
          "execution_count": 10
        }
      ]
    },
    {
      "cell_type": "markdown",
      "source": [
        "## Split the Data (Validation Split)"
      ],
      "metadata": {
        "id": "vptfrYiwmWkg"
      }
    },
    {
      "cell_type": "code",
      "source": [
        "# Split into Train/Test Split\n",
        "X = sale_df.drop(columns=['Item_Outlet_Sales'])\n",
        "y = sale_df['Item_Outlet_Sales']\n",
        "\n",
        "# split training/test\n",
        "X_train, X_test, y_train, y_test = train_test_split(X, y, random_state=42)\n"
      ],
      "metadata": {
        "id": "_tB9U-ZTm-Gl"
      },
      "execution_count": 11,
      "outputs": []
    },
    {
      "cell_type": "code",
      "source": [
        "display(X.head())\n",
        "\n",
        "y[0:5]"
      ],
      "metadata": {
        "colab": {
          "base_uri": "https://localhost:8080/",
          "height": 354
        },
        "id": "ktpcXhCMnm9X",
        "outputId": "577dfe70-726f-4822-fa4b-dfe79774326c"
      },
      "execution_count": 12,
      "outputs": [
        {
          "output_type": "display_data",
          "data": {
            "text/plain": [
              "  Item_Identifier  Item_Weight Item_Fat_Content  Item_Visibility  \\\n",
              "0           FDA15         9.30          Low Fat         0.016047   \n",
              "1           DRC01         5.92          Regular         0.019278   \n",
              "2           FDN15        17.50          Low Fat         0.016760   \n",
              "3           FDX07        19.20          Regular         0.000000   \n",
              "4           NCD19         8.93          Low Fat         0.000000   \n",
              "\n",
              "               Item_Type  Item_MRP Outlet_Identifier  \\\n",
              "0                  Dairy  249.8092            OUT049   \n",
              "1            Soft Drinks   48.2692            OUT018   \n",
              "2                   Meat  141.6180            OUT049   \n",
              "3  Fruits and Vegetables  182.0950            OUT010   \n",
              "4              Household   53.8614            OUT013   \n",
              "\n",
              "   Outlet_Establishment_Year  Outlet_Size Outlet_Location_Type  \\\n",
              "0                       1999          1.0               Tier 1   \n",
              "1                       2009          1.0               Tier 3   \n",
              "2                       1999          1.0               Tier 1   \n",
              "3                       1998          NaN               Tier 3   \n",
              "4                       1987          2.0               Tier 3   \n",
              "\n",
              "         Outlet_Type  \n",
              "0  Supermarket Type1  \n",
              "1  Supermarket Type2  \n",
              "2  Supermarket Type1  \n",
              "3      Grocery Store  \n",
              "4  Supermarket Type1  "
            ],
            "text/html": [
              "\n",
              "  <div id=\"df-fb33519f-fbd7-44c1-bd51-cd066c6754d2\">\n",
              "    <div class=\"colab-df-container\">\n",
              "      <div>\n",
              "<style scoped>\n",
              "    .dataframe tbody tr th:only-of-type {\n",
              "        vertical-align: middle;\n",
              "    }\n",
              "\n",
              "    .dataframe tbody tr th {\n",
              "        vertical-align: top;\n",
              "    }\n",
              "\n",
              "    .dataframe thead th {\n",
              "        text-align: right;\n",
              "    }\n",
              "</style>\n",
              "<table border=\"1\" class=\"dataframe\">\n",
              "  <thead>\n",
              "    <tr style=\"text-align: right;\">\n",
              "      <th></th>\n",
              "      <th>Item_Identifier</th>\n",
              "      <th>Item_Weight</th>\n",
              "      <th>Item_Fat_Content</th>\n",
              "      <th>Item_Visibility</th>\n",
              "      <th>Item_Type</th>\n",
              "      <th>Item_MRP</th>\n",
              "      <th>Outlet_Identifier</th>\n",
              "      <th>Outlet_Establishment_Year</th>\n",
              "      <th>Outlet_Size</th>\n",
              "      <th>Outlet_Location_Type</th>\n",
              "      <th>Outlet_Type</th>\n",
              "    </tr>\n",
              "  </thead>\n",
              "  <tbody>\n",
              "    <tr>\n",
              "      <th>0</th>\n",
              "      <td>FDA15</td>\n",
              "      <td>9.30</td>\n",
              "      <td>Low Fat</td>\n",
              "      <td>0.016047</td>\n",
              "      <td>Dairy</td>\n",
              "      <td>249.8092</td>\n",
              "      <td>OUT049</td>\n",
              "      <td>1999</td>\n",
              "      <td>1.0</td>\n",
              "      <td>Tier 1</td>\n",
              "      <td>Supermarket Type1</td>\n",
              "    </tr>\n",
              "    <tr>\n",
              "      <th>1</th>\n",
              "      <td>DRC01</td>\n",
              "      <td>5.92</td>\n",
              "      <td>Regular</td>\n",
              "      <td>0.019278</td>\n",
              "      <td>Soft Drinks</td>\n",
              "      <td>48.2692</td>\n",
              "      <td>OUT018</td>\n",
              "      <td>2009</td>\n",
              "      <td>1.0</td>\n",
              "      <td>Tier 3</td>\n",
              "      <td>Supermarket Type2</td>\n",
              "    </tr>\n",
              "    <tr>\n",
              "      <th>2</th>\n",
              "      <td>FDN15</td>\n",
              "      <td>17.50</td>\n",
              "      <td>Low Fat</td>\n",
              "      <td>0.016760</td>\n",
              "      <td>Meat</td>\n",
              "      <td>141.6180</td>\n",
              "      <td>OUT049</td>\n",
              "      <td>1999</td>\n",
              "      <td>1.0</td>\n",
              "      <td>Tier 1</td>\n",
              "      <td>Supermarket Type1</td>\n",
              "    </tr>\n",
              "    <tr>\n",
              "      <th>3</th>\n",
              "      <td>FDX07</td>\n",
              "      <td>19.20</td>\n",
              "      <td>Regular</td>\n",
              "      <td>0.000000</td>\n",
              "      <td>Fruits and Vegetables</td>\n",
              "      <td>182.0950</td>\n",
              "      <td>OUT010</td>\n",
              "      <td>1998</td>\n",
              "      <td>NaN</td>\n",
              "      <td>Tier 3</td>\n",
              "      <td>Grocery Store</td>\n",
              "    </tr>\n",
              "    <tr>\n",
              "      <th>4</th>\n",
              "      <td>NCD19</td>\n",
              "      <td>8.93</td>\n",
              "      <td>Low Fat</td>\n",
              "      <td>0.000000</td>\n",
              "      <td>Household</td>\n",
              "      <td>53.8614</td>\n",
              "      <td>OUT013</td>\n",
              "      <td>1987</td>\n",
              "      <td>2.0</td>\n",
              "      <td>Tier 3</td>\n",
              "      <td>Supermarket Type1</td>\n",
              "    </tr>\n",
              "  </tbody>\n",
              "</table>\n",
              "</div>\n",
              "      <button class=\"colab-df-convert\" onclick=\"convertToInteractive('df-fb33519f-fbd7-44c1-bd51-cd066c6754d2')\"\n",
              "              title=\"Convert this dataframe to an interactive table.\"\n",
              "              style=\"display:none;\">\n",
              "        \n",
              "  <svg xmlns=\"http://www.w3.org/2000/svg\" height=\"24px\"viewBox=\"0 0 24 24\"\n",
              "       width=\"24px\">\n",
              "    <path d=\"M0 0h24v24H0V0z\" fill=\"none\"/>\n",
              "    <path d=\"M18.56 5.44l.94 2.06.94-2.06 2.06-.94-2.06-.94-.94-2.06-.94 2.06-2.06.94zm-11 1L8.5 8.5l.94-2.06 2.06-.94-2.06-.94L8.5 2.5l-.94 2.06-2.06.94zm10 10l.94 2.06.94-2.06 2.06-.94-2.06-.94-.94-2.06-.94 2.06-2.06.94z\"/><path d=\"M17.41 7.96l-1.37-1.37c-.4-.4-.92-.59-1.43-.59-.52 0-1.04.2-1.43.59L10.3 9.45l-7.72 7.72c-.78.78-.78 2.05 0 2.83L4 21.41c.39.39.9.59 1.41.59.51 0 1.02-.2 1.41-.59l7.78-7.78 2.81-2.81c.8-.78.8-2.07 0-2.86zM5.41 20L4 18.59l7.72-7.72 1.47 1.35L5.41 20z\"/>\n",
              "  </svg>\n",
              "      </button>\n",
              "      \n",
              "  <style>\n",
              "    .colab-df-container {\n",
              "      display:flex;\n",
              "      flex-wrap:wrap;\n",
              "      gap: 12px;\n",
              "    }\n",
              "\n",
              "    .colab-df-convert {\n",
              "      background-color: #E8F0FE;\n",
              "      border: none;\n",
              "      border-radius: 50%;\n",
              "      cursor: pointer;\n",
              "      display: none;\n",
              "      fill: #1967D2;\n",
              "      height: 32px;\n",
              "      padding: 0 0 0 0;\n",
              "      width: 32px;\n",
              "    }\n",
              "\n",
              "    .colab-df-convert:hover {\n",
              "      background-color: #E2EBFA;\n",
              "      box-shadow: 0px 1px 2px rgba(60, 64, 67, 0.3), 0px 1px 3px 1px rgba(60, 64, 67, 0.15);\n",
              "      fill: #174EA6;\n",
              "    }\n",
              "\n",
              "    [theme=dark] .colab-df-convert {\n",
              "      background-color: #3B4455;\n",
              "      fill: #D2E3FC;\n",
              "    }\n",
              "\n",
              "    [theme=dark] .colab-df-convert:hover {\n",
              "      background-color: #434B5C;\n",
              "      box-shadow: 0px 1px 3px 1px rgba(0, 0, 0, 0.15);\n",
              "      filter: drop-shadow(0px 1px 2px rgba(0, 0, 0, 0.3));\n",
              "      fill: #FFFFFF;\n",
              "    }\n",
              "  </style>\n",
              "\n",
              "      <script>\n",
              "        const buttonEl =\n",
              "          document.querySelector('#df-fb33519f-fbd7-44c1-bd51-cd066c6754d2 button.colab-df-convert');\n",
              "        buttonEl.style.display =\n",
              "          google.colab.kernel.accessAllowed ? 'block' : 'none';\n",
              "\n",
              "        async function convertToInteractive(key) {\n",
              "          const element = document.querySelector('#df-fb33519f-fbd7-44c1-bd51-cd066c6754d2');\n",
              "          const dataTable =\n",
              "            await google.colab.kernel.invokeFunction('convertToInteractive',\n",
              "                                                     [key], {});\n",
              "          if (!dataTable) return;\n",
              "\n",
              "          const docLinkHtml = 'Like what you see? Visit the ' +\n",
              "            '<a target=\"_blank\" href=https://colab.research.google.com/notebooks/data_table.ipynb>data table notebook</a>'\n",
              "            + ' to learn more about interactive tables.';\n",
              "          element.innerHTML = '';\n",
              "          dataTable['output_type'] = 'display_data';\n",
              "          await google.colab.output.renderOutput(dataTable, element);\n",
              "          const docLink = document.createElement('div');\n",
              "          docLink.innerHTML = docLinkHtml;\n",
              "          element.appendChild(docLink);\n",
              "        }\n",
              "      </script>\n",
              "    </div>\n",
              "  </div>\n",
              "  "
            ]
          },
          "metadata": {}
        },
        {
          "output_type": "execute_result",
          "data": {
            "text/plain": [
              "0    3735.1380\n",
              "1     443.4228\n",
              "2    2097.2700\n",
              "3     732.3800\n",
              "4     994.7052\n",
              "Name: Item_Outlet_Sales, dtype: float64"
            ]
          },
          "metadata": {},
          "execution_count": 12
        }
      ]
    },
    {
      "cell_type": "markdown",
      "source": [
        "## Instantiate Column Selectors"
      ],
      "metadata": {
        "id": "YdoX04Z_n-iD"
      }
    },
    {
      "cell_type": "code",
      "source": [
        "# Selectors\n",
        "cat_selector = make_column_selector(dtype_include = 'object')\n",
        "num_selector = make_column_selector(dtype_include = 'number')"
      ],
      "metadata": {
        "id": "w2XqsLxWoDUf"
      },
      "execution_count": 13,
      "outputs": []
    },
    {
      "cell_type": "code",
      "source": [
        "train_cat_data = X_train[cat_selector(X_train)]\n",
        "test_cat_data = X_test[cat_selector(X_test)]\n",
        "train_cat_data.head()"
      ],
      "metadata": {
        "colab": {
          "base_uri": "https://localhost:8080/",
          "height": 206
        },
        "id": "9vgE_UaAoMqy",
        "outputId": "59e5335e-4104-44b7-ec61-7318a9d1834e"
      },
      "execution_count": 14,
      "outputs": [
        {
          "output_type": "execute_result",
          "data": {
            "text/plain": [
              "     Item_Identifier Item_Fat_Content     Item_Type Outlet_Identifier  \\\n",
              "4776           NCG06          Low Fat     Household            OUT018   \n",
              "7510           FDV57          Regular   Snack Foods            OUT018   \n",
              "5828           FDM27          Regular          Meat            OUT049   \n",
              "5327           FDG24          Low Fat  Baking Goods            OUT035   \n",
              "4810           FDD05          Low Fat  Frozen Foods            OUT045   \n",
              "\n",
              "     Outlet_Location_Type        Outlet_Type  \n",
              "4776               Tier 3  Supermarket Type2  \n",
              "7510               Tier 3  Supermarket Type2  \n",
              "5828               Tier 1  Supermarket Type1  \n",
              "5327               Tier 2  Supermarket Type1  \n",
              "4810               Tier 2  Supermarket Type1  "
            ],
            "text/html": [
              "\n",
              "  <div id=\"df-30194529-1272-460e-a5da-a7901162b0fd\">\n",
              "    <div class=\"colab-df-container\">\n",
              "      <div>\n",
              "<style scoped>\n",
              "    .dataframe tbody tr th:only-of-type {\n",
              "        vertical-align: middle;\n",
              "    }\n",
              "\n",
              "    .dataframe tbody tr th {\n",
              "        vertical-align: top;\n",
              "    }\n",
              "\n",
              "    .dataframe thead th {\n",
              "        text-align: right;\n",
              "    }\n",
              "</style>\n",
              "<table border=\"1\" class=\"dataframe\">\n",
              "  <thead>\n",
              "    <tr style=\"text-align: right;\">\n",
              "      <th></th>\n",
              "      <th>Item_Identifier</th>\n",
              "      <th>Item_Fat_Content</th>\n",
              "      <th>Item_Type</th>\n",
              "      <th>Outlet_Identifier</th>\n",
              "      <th>Outlet_Location_Type</th>\n",
              "      <th>Outlet_Type</th>\n",
              "    </tr>\n",
              "  </thead>\n",
              "  <tbody>\n",
              "    <tr>\n",
              "      <th>4776</th>\n",
              "      <td>NCG06</td>\n",
              "      <td>Low Fat</td>\n",
              "      <td>Household</td>\n",
              "      <td>OUT018</td>\n",
              "      <td>Tier 3</td>\n",
              "      <td>Supermarket Type2</td>\n",
              "    </tr>\n",
              "    <tr>\n",
              "      <th>7510</th>\n",
              "      <td>FDV57</td>\n",
              "      <td>Regular</td>\n",
              "      <td>Snack Foods</td>\n",
              "      <td>OUT018</td>\n",
              "      <td>Tier 3</td>\n",
              "      <td>Supermarket Type2</td>\n",
              "    </tr>\n",
              "    <tr>\n",
              "      <th>5828</th>\n",
              "      <td>FDM27</td>\n",
              "      <td>Regular</td>\n",
              "      <td>Meat</td>\n",
              "      <td>OUT049</td>\n",
              "      <td>Tier 1</td>\n",
              "      <td>Supermarket Type1</td>\n",
              "    </tr>\n",
              "    <tr>\n",
              "      <th>5327</th>\n",
              "      <td>FDG24</td>\n",
              "      <td>Low Fat</td>\n",
              "      <td>Baking Goods</td>\n",
              "      <td>OUT035</td>\n",
              "      <td>Tier 2</td>\n",
              "      <td>Supermarket Type1</td>\n",
              "    </tr>\n",
              "    <tr>\n",
              "      <th>4810</th>\n",
              "      <td>FDD05</td>\n",
              "      <td>Low Fat</td>\n",
              "      <td>Frozen Foods</td>\n",
              "      <td>OUT045</td>\n",
              "      <td>Tier 2</td>\n",
              "      <td>Supermarket Type1</td>\n",
              "    </tr>\n",
              "  </tbody>\n",
              "</table>\n",
              "</div>\n",
              "      <button class=\"colab-df-convert\" onclick=\"convertToInteractive('df-30194529-1272-460e-a5da-a7901162b0fd')\"\n",
              "              title=\"Convert this dataframe to an interactive table.\"\n",
              "              style=\"display:none;\">\n",
              "        \n",
              "  <svg xmlns=\"http://www.w3.org/2000/svg\" height=\"24px\"viewBox=\"0 0 24 24\"\n",
              "       width=\"24px\">\n",
              "    <path d=\"M0 0h24v24H0V0z\" fill=\"none\"/>\n",
              "    <path d=\"M18.56 5.44l.94 2.06.94-2.06 2.06-.94-2.06-.94-.94-2.06-.94 2.06-2.06.94zm-11 1L8.5 8.5l.94-2.06 2.06-.94-2.06-.94L8.5 2.5l-.94 2.06-2.06.94zm10 10l.94 2.06.94-2.06 2.06-.94-2.06-.94-.94-2.06-.94 2.06-2.06.94z\"/><path d=\"M17.41 7.96l-1.37-1.37c-.4-.4-.92-.59-1.43-.59-.52 0-1.04.2-1.43.59L10.3 9.45l-7.72 7.72c-.78.78-.78 2.05 0 2.83L4 21.41c.39.39.9.59 1.41.59.51 0 1.02-.2 1.41-.59l7.78-7.78 2.81-2.81c.8-.78.8-2.07 0-2.86zM5.41 20L4 18.59l7.72-7.72 1.47 1.35L5.41 20z\"/>\n",
              "  </svg>\n",
              "      </button>\n",
              "      \n",
              "  <style>\n",
              "    .colab-df-container {\n",
              "      display:flex;\n",
              "      flex-wrap:wrap;\n",
              "      gap: 12px;\n",
              "    }\n",
              "\n",
              "    .colab-df-convert {\n",
              "      background-color: #E8F0FE;\n",
              "      border: none;\n",
              "      border-radius: 50%;\n",
              "      cursor: pointer;\n",
              "      display: none;\n",
              "      fill: #1967D2;\n",
              "      height: 32px;\n",
              "      padding: 0 0 0 0;\n",
              "      width: 32px;\n",
              "    }\n",
              "\n",
              "    .colab-df-convert:hover {\n",
              "      background-color: #E2EBFA;\n",
              "      box-shadow: 0px 1px 2px rgba(60, 64, 67, 0.3), 0px 1px 3px 1px rgba(60, 64, 67, 0.15);\n",
              "      fill: #174EA6;\n",
              "    }\n",
              "\n",
              "    [theme=dark] .colab-df-convert {\n",
              "      background-color: #3B4455;\n",
              "      fill: #D2E3FC;\n",
              "    }\n",
              "\n",
              "    [theme=dark] .colab-df-convert:hover {\n",
              "      background-color: #434B5C;\n",
              "      box-shadow: 0px 1px 3px 1px rgba(0, 0, 0, 0.15);\n",
              "      filter: drop-shadow(0px 1px 2px rgba(0, 0, 0, 0.3));\n",
              "      fill: #FFFFFF;\n",
              "    }\n",
              "  </style>\n",
              "\n",
              "      <script>\n",
              "        const buttonEl =\n",
              "          document.querySelector('#df-30194529-1272-460e-a5da-a7901162b0fd button.colab-df-convert');\n",
              "        buttonEl.style.display =\n",
              "          google.colab.kernel.accessAllowed ? 'block' : 'none';\n",
              "\n",
              "        async function convertToInteractive(key) {\n",
              "          const element = document.querySelector('#df-30194529-1272-460e-a5da-a7901162b0fd');\n",
              "          const dataTable =\n",
              "            await google.colab.kernel.invokeFunction('convertToInteractive',\n",
              "                                                     [key], {});\n",
              "          if (!dataTable) return;\n",
              "\n",
              "          const docLinkHtml = 'Like what you see? Visit the ' +\n",
              "            '<a target=\"_blank\" href=https://colab.research.google.com/notebooks/data_table.ipynb>data table notebook</a>'\n",
              "            + ' to learn more about interactive tables.';\n",
              "          element.innerHTML = '';\n",
              "          dataTable['output_type'] = 'display_data';\n",
              "          await google.colab.output.renderOutput(dataTable, element);\n",
              "          const docLink = document.createElement('div');\n",
              "          docLink.innerHTML = docLinkHtml;\n",
              "          element.appendChild(docLink);\n",
              "        }\n",
              "      </script>\n",
              "    </div>\n",
              "  </div>\n",
              "  "
            ]
          },
          "metadata": {},
          "execution_count": 14
        }
      ]
    },
    {
      "cell_type": "markdown",
      "source": [
        "## Instantiate Transformers"
      ],
      "metadata": {
        "id": "i7VtPhLVopzR"
      }
    },
    {
      "cell_type": "code",
      "source": [
        "# Imputers\n",
        "freq_imputer = SimpleImputer(strategy='most_frequent')\n",
        "median_imputer = SimpleImputer(strategy='median')\n",
        "#Scaler\n",
        "scaler = StandardScaler()\n",
        "# One-Hot Encoder\n",
        "ohe = OneHotEncoder(handle_unknown='ignore', sparse = False)"
      ],
      "metadata": {
        "id": "0M5kbYGrorkO"
      },
      "execution_count": 15,
      "outputs": []
    },
    {
      "cell_type": "markdown",
      "source": [
        "## Instantiate Pipelines"
      ],
      "metadata": {
        "id": "-EtBFXQRrPp1"
      }
    },
    {
      "cell_type": "code",
      "source": [
        "# Numeric Pipeline\n",
        "numeric_pipe = make_pipeline(median_imputer, scaler)\n",
        "numeric_pipe"
      ],
      "metadata": {
        "colab": {
          "base_uri": "https://localhost:8080/",
          "height": 126
        },
        "id": "VjVrr4MTQxxV",
        "outputId": "f03628dd-75fe-4d08-db66-708fe1e6e1a8"
      },
      "execution_count": 16,
      "outputs": [
        {
          "output_type": "execute_result",
          "data": {
            "text/plain": [
              "Pipeline(steps=[('simpleimputer', SimpleImputer(strategy='median')),\n",
              "                ('standardscaler', StandardScaler())])"
            ],
            "text/html": [
              "<style>#sk-54cc0883-6a78-42fe-ba9a-c62797905928 {color: black;background-color: white;}#sk-54cc0883-6a78-42fe-ba9a-c62797905928 pre{padding: 0;}#sk-54cc0883-6a78-42fe-ba9a-c62797905928 div.sk-toggleable {background-color: white;}#sk-54cc0883-6a78-42fe-ba9a-c62797905928 label.sk-toggleable__label {cursor: pointer;display: block;width: 100%;margin-bottom: 0;padding: 0.3em;box-sizing: border-box;text-align: center;}#sk-54cc0883-6a78-42fe-ba9a-c62797905928 label.sk-toggleable__label-arrow:before {content: \"▸\";float: left;margin-right: 0.25em;color: #696969;}#sk-54cc0883-6a78-42fe-ba9a-c62797905928 label.sk-toggleable__label-arrow:hover:before {color: black;}#sk-54cc0883-6a78-42fe-ba9a-c62797905928 div.sk-estimator:hover label.sk-toggleable__label-arrow:before {color: black;}#sk-54cc0883-6a78-42fe-ba9a-c62797905928 div.sk-toggleable__content {max-height: 0;max-width: 0;overflow: hidden;text-align: left;background-color: #f0f8ff;}#sk-54cc0883-6a78-42fe-ba9a-c62797905928 div.sk-toggleable__content pre {margin: 0.2em;color: black;border-radius: 0.25em;background-color: #f0f8ff;}#sk-54cc0883-6a78-42fe-ba9a-c62797905928 input.sk-toggleable__control:checked~div.sk-toggleable__content {max-height: 200px;max-width: 100%;overflow: auto;}#sk-54cc0883-6a78-42fe-ba9a-c62797905928 input.sk-toggleable__control:checked~label.sk-toggleable__label-arrow:before {content: \"▾\";}#sk-54cc0883-6a78-42fe-ba9a-c62797905928 div.sk-estimator input.sk-toggleable__control:checked~label.sk-toggleable__label {background-color: #d4ebff;}#sk-54cc0883-6a78-42fe-ba9a-c62797905928 div.sk-label input.sk-toggleable__control:checked~label.sk-toggleable__label {background-color: #d4ebff;}#sk-54cc0883-6a78-42fe-ba9a-c62797905928 input.sk-hidden--visually {border: 0;clip: rect(1px 1px 1px 1px);clip: rect(1px, 1px, 1px, 1px);height: 1px;margin: -1px;overflow: hidden;padding: 0;position: absolute;width: 1px;}#sk-54cc0883-6a78-42fe-ba9a-c62797905928 div.sk-estimator {font-family: monospace;background-color: #f0f8ff;border: 1px dotted black;border-radius: 0.25em;box-sizing: border-box;margin-bottom: 0.5em;}#sk-54cc0883-6a78-42fe-ba9a-c62797905928 div.sk-estimator:hover {background-color: #d4ebff;}#sk-54cc0883-6a78-42fe-ba9a-c62797905928 div.sk-parallel-item::after {content: \"\";width: 100%;border-bottom: 1px solid gray;flex-grow: 1;}#sk-54cc0883-6a78-42fe-ba9a-c62797905928 div.sk-label:hover label.sk-toggleable__label {background-color: #d4ebff;}#sk-54cc0883-6a78-42fe-ba9a-c62797905928 div.sk-serial::before {content: \"\";position: absolute;border-left: 1px solid gray;box-sizing: border-box;top: 2em;bottom: 0;left: 50%;}#sk-54cc0883-6a78-42fe-ba9a-c62797905928 div.sk-serial {display: flex;flex-direction: column;align-items: center;background-color: white;padding-right: 0.2em;padding-left: 0.2em;}#sk-54cc0883-6a78-42fe-ba9a-c62797905928 div.sk-item {z-index: 1;}#sk-54cc0883-6a78-42fe-ba9a-c62797905928 div.sk-parallel {display: flex;align-items: stretch;justify-content: center;background-color: white;}#sk-54cc0883-6a78-42fe-ba9a-c62797905928 div.sk-parallel::before {content: \"\";position: absolute;border-left: 1px solid gray;box-sizing: border-box;top: 2em;bottom: 0;left: 50%;}#sk-54cc0883-6a78-42fe-ba9a-c62797905928 div.sk-parallel-item {display: flex;flex-direction: column;position: relative;background-color: white;}#sk-54cc0883-6a78-42fe-ba9a-c62797905928 div.sk-parallel-item:first-child::after {align-self: flex-end;width: 50%;}#sk-54cc0883-6a78-42fe-ba9a-c62797905928 div.sk-parallel-item:last-child::after {align-self: flex-start;width: 50%;}#sk-54cc0883-6a78-42fe-ba9a-c62797905928 div.sk-parallel-item:only-child::after {width: 0;}#sk-54cc0883-6a78-42fe-ba9a-c62797905928 div.sk-dashed-wrapped {border: 1px dashed gray;margin: 0 0.4em 0.5em 0.4em;box-sizing: border-box;padding-bottom: 0.4em;background-color: white;position: relative;}#sk-54cc0883-6a78-42fe-ba9a-c62797905928 div.sk-label label {font-family: monospace;font-weight: bold;background-color: white;display: inline-block;line-height: 1.2em;}#sk-54cc0883-6a78-42fe-ba9a-c62797905928 div.sk-label-container {position: relative;z-index: 2;text-align: center;}#sk-54cc0883-6a78-42fe-ba9a-c62797905928 div.sk-container {/* jupyter's `normalize.less` sets `[hidden] { display: none; }` but bootstrap.min.css set `[hidden] { display: none !important; }` so we also need the `!important` here to be able to override the default hidden behavior on the sphinx rendered scikit-learn.org. See: https://github.com/scikit-learn/scikit-learn/issues/21755 */display: inline-block !important;position: relative;}#sk-54cc0883-6a78-42fe-ba9a-c62797905928 div.sk-text-repr-fallback {display: none;}</style><div id=\"sk-54cc0883-6a78-42fe-ba9a-c62797905928\" class=\"sk-top-container\"><div class=\"sk-text-repr-fallback\"><pre>Pipeline(steps=[(&#x27;simpleimputer&#x27;, SimpleImputer(strategy=&#x27;median&#x27;)),\n",
              "                (&#x27;standardscaler&#x27;, StandardScaler())])</pre><b>Please rerun this cell to show the HTML repr or trust the notebook.</b></div><div class=\"sk-container\" hidden><div class=\"sk-item sk-dashed-wrapped\"><div class=\"sk-label-container\"><div class=\"sk-label sk-toggleable\"><input class=\"sk-toggleable__control sk-hidden--visually\" id=\"bf81f8a0-f31e-4de3-9545-95ce82666c0b\" type=\"checkbox\" ><label for=\"bf81f8a0-f31e-4de3-9545-95ce82666c0b\" class=\"sk-toggleable__label sk-toggleable__label-arrow\">Pipeline</label><div class=\"sk-toggleable__content\"><pre>Pipeline(steps=[(&#x27;simpleimputer&#x27;, SimpleImputer(strategy=&#x27;median&#x27;)),\n",
              "                (&#x27;standardscaler&#x27;, StandardScaler())])</pre></div></div></div><div class=\"sk-serial\"><div class=\"sk-item\"><div class=\"sk-estimator sk-toggleable\"><input class=\"sk-toggleable__control sk-hidden--visually\" id=\"9ed1b02b-a66d-4e48-a15f-c17270df7009\" type=\"checkbox\" ><label for=\"9ed1b02b-a66d-4e48-a15f-c17270df7009\" class=\"sk-toggleable__label sk-toggleable__label-arrow\">SimpleImputer</label><div class=\"sk-toggleable__content\"><pre>SimpleImputer(strategy=&#x27;median&#x27;)</pre></div></div></div><div class=\"sk-item\"><div class=\"sk-estimator sk-toggleable\"><input class=\"sk-toggleable__control sk-hidden--visually\" id=\"a2352219-6161-402a-801e-4dc9bd872644\" type=\"checkbox\" ><label for=\"a2352219-6161-402a-801e-4dc9bd872644\" class=\"sk-toggleable__label sk-toggleable__label-arrow\">StandardScaler</label><div class=\"sk-toggleable__content\"><pre>StandardScaler()</pre></div></div></div></div></div></div></div>"
            ]
          },
          "metadata": {},
          "execution_count": 16
        }
      ]
    },
    {
      "cell_type": "code",
      "source": [
        "# Categorical Pipeline\n",
        "categorical_pipe = make_pipeline(freq_imputer, ohe)\n",
        "categorical_pipe"
      ],
      "metadata": {
        "colab": {
          "base_uri": "https://localhost:8080/",
          "height": 126
        },
        "id": "5rsJ0sESRCTh",
        "outputId": "86016e75-5f80-48a9-8e76-0c260baa5330"
      },
      "execution_count": 17,
      "outputs": [
        {
          "output_type": "execute_result",
          "data": {
            "text/plain": [
              "Pipeline(steps=[('simpleimputer', SimpleImputer(strategy='most_frequent')),\n",
              "                ('onehotencoder',\n",
              "                 OneHotEncoder(handle_unknown='ignore', sparse=False))])"
            ],
            "text/html": [
              "<style>#sk-6438d627-4b74-4081-bb2b-baaa3d91621e {color: black;background-color: white;}#sk-6438d627-4b74-4081-bb2b-baaa3d91621e pre{padding: 0;}#sk-6438d627-4b74-4081-bb2b-baaa3d91621e div.sk-toggleable {background-color: white;}#sk-6438d627-4b74-4081-bb2b-baaa3d91621e label.sk-toggleable__label {cursor: pointer;display: block;width: 100%;margin-bottom: 0;padding: 0.3em;box-sizing: border-box;text-align: center;}#sk-6438d627-4b74-4081-bb2b-baaa3d91621e label.sk-toggleable__label-arrow:before {content: \"▸\";float: left;margin-right: 0.25em;color: #696969;}#sk-6438d627-4b74-4081-bb2b-baaa3d91621e label.sk-toggleable__label-arrow:hover:before {color: black;}#sk-6438d627-4b74-4081-bb2b-baaa3d91621e div.sk-estimator:hover label.sk-toggleable__label-arrow:before {color: black;}#sk-6438d627-4b74-4081-bb2b-baaa3d91621e div.sk-toggleable__content {max-height: 0;max-width: 0;overflow: hidden;text-align: left;background-color: #f0f8ff;}#sk-6438d627-4b74-4081-bb2b-baaa3d91621e div.sk-toggleable__content pre {margin: 0.2em;color: black;border-radius: 0.25em;background-color: #f0f8ff;}#sk-6438d627-4b74-4081-bb2b-baaa3d91621e input.sk-toggleable__control:checked~div.sk-toggleable__content {max-height: 200px;max-width: 100%;overflow: auto;}#sk-6438d627-4b74-4081-bb2b-baaa3d91621e input.sk-toggleable__control:checked~label.sk-toggleable__label-arrow:before {content: \"▾\";}#sk-6438d627-4b74-4081-bb2b-baaa3d91621e div.sk-estimator input.sk-toggleable__control:checked~label.sk-toggleable__label {background-color: #d4ebff;}#sk-6438d627-4b74-4081-bb2b-baaa3d91621e div.sk-label input.sk-toggleable__control:checked~label.sk-toggleable__label {background-color: #d4ebff;}#sk-6438d627-4b74-4081-bb2b-baaa3d91621e input.sk-hidden--visually {border: 0;clip: rect(1px 1px 1px 1px);clip: rect(1px, 1px, 1px, 1px);height: 1px;margin: -1px;overflow: hidden;padding: 0;position: absolute;width: 1px;}#sk-6438d627-4b74-4081-bb2b-baaa3d91621e div.sk-estimator {font-family: monospace;background-color: #f0f8ff;border: 1px dotted black;border-radius: 0.25em;box-sizing: border-box;margin-bottom: 0.5em;}#sk-6438d627-4b74-4081-bb2b-baaa3d91621e div.sk-estimator:hover {background-color: #d4ebff;}#sk-6438d627-4b74-4081-bb2b-baaa3d91621e div.sk-parallel-item::after {content: \"\";width: 100%;border-bottom: 1px solid gray;flex-grow: 1;}#sk-6438d627-4b74-4081-bb2b-baaa3d91621e div.sk-label:hover label.sk-toggleable__label {background-color: #d4ebff;}#sk-6438d627-4b74-4081-bb2b-baaa3d91621e div.sk-serial::before {content: \"\";position: absolute;border-left: 1px solid gray;box-sizing: border-box;top: 2em;bottom: 0;left: 50%;}#sk-6438d627-4b74-4081-bb2b-baaa3d91621e div.sk-serial {display: flex;flex-direction: column;align-items: center;background-color: white;padding-right: 0.2em;padding-left: 0.2em;}#sk-6438d627-4b74-4081-bb2b-baaa3d91621e div.sk-item {z-index: 1;}#sk-6438d627-4b74-4081-bb2b-baaa3d91621e div.sk-parallel {display: flex;align-items: stretch;justify-content: center;background-color: white;}#sk-6438d627-4b74-4081-bb2b-baaa3d91621e div.sk-parallel::before {content: \"\";position: absolute;border-left: 1px solid gray;box-sizing: border-box;top: 2em;bottom: 0;left: 50%;}#sk-6438d627-4b74-4081-bb2b-baaa3d91621e div.sk-parallel-item {display: flex;flex-direction: column;position: relative;background-color: white;}#sk-6438d627-4b74-4081-bb2b-baaa3d91621e div.sk-parallel-item:first-child::after {align-self: flex-end;width: 50%;}#sk-6438d627-4b74-4081-bb2b-baaa3d91621e div.sk-parallel-item:last-child::after {align-self: flex-start;width: 50%;}#sk-6438d627-4b74-4081-bb2b-baaa3d91621e div.sk-parallel-item:only-child::after {width: 0;}#sk-6438d627-4b74-4081-bb2b-baaa3d91621e div.sk-dashed-wrapped {border: 1px dashed gray;margin: 0 0.4em 0.5em 0.4em;box-sizing: border-box;padding-bottom: 0.4em;background-color: white;position: relative;}#sk-6438d627-4b74-4081-bb2b-baaa3d91621e div.sk-label label {font-family: monospace;font-weight: bold;background-color: white;display: inline-block;line-height: 1.2em;}#sk-6438d627-4b74-4081-bb2b-baaa3d91621e div.sk-label-container {position: relative;z-index: 2;text-align: center;}#sk-6438d627-4b74-4081-bb2b-baaa3d91621e div.sk-container {/* jupyter's `normalize.less` sets `[hidden] { display: none; }` but bootstrap.min.css set `[hidden] { display: none !important; }` so we also need the `!important` here to be able to override the default hidden behavior on the sphinx rendered scikit-learn.org. See: https://github.com/scikit-learn/scikit-learn/issues/21755 */display: inline-block !important;position: relative;}#sk-6438d627-4b74-4081-bb2b-baaa3d91621e div.sk-text-repr-fallback {display: none;}</style><div id=\"sk-6438d627-4b74-4081-bb2b-baaa3d91621e\" class=\"sk-top-container\"><div class=\"sk-text-repr-fallback\"><pre>Pipeline(steps=[(&#x27;simpleimputer&#x27;, SimpleImputer(strategy=&#x27;most_frequent&#x27;)),\n",
              "                (&#x27;onehotencoder&#x27;,\n",
              "                 OneHotEncoder(handle_unknown=&#x27;ignore&#x27;, sparse=False))])</pre><b>Please rerun this cell to show the HTML repr or trust the notebook.</b></div><div class=\"sk-container\" hidden><div class=\"sk-item sk-dashed-wrapped\"><div class=\"sk-label-container\"><div class=\"sk-label sk-toggleable\"><input class=\"sk-toggleable__control sk-hidden--visually\" id=\"19d8dcda-b1bc-443f-a89e-4b84470f785d\" type=\"checkbox\" ><label for=\"19d8dcda-b1bc-443f-a89e-4b84470f785d\" class=\"sk-toggleable__label sk-toggleable__label-arrow\">Pipeline</label><div class=\"sk-toggleable__content\"><pre>Pipeline(steps=[(&#x27;simpleimputer&#x27;, SimpleImputer(strategy=&#x27;most_frequent&#x27;)),\n",
              "                (&#x27;onehotencoder&#x27;,\n",
              "                 OneHotEncoder(handle_unknown=&#x27;ignore&#x27;, sparse=False))])</pre></div></div></div><div class=\"sk-serial\"><div class=\"sk-item\"><div class=\"sk-estimator sk-toggleable\"><input class=\"sk-toggleable__control sk-hidden--visually\" id=\"829e87cf-1484-46da-b36e-b021adcd915f\" type=\"checkbox\" ><label for=\"829e87cf-1484-46da-b36e-b021adcd915f\" class=\"sk-toggleable__label sk-toggleable__label-arrow\">SimpleImputer</label><div class=\"sk-toggleable__content\"><pre>SimpleImputer(strategy=&#x27;most_frequent&#x27;)</pre></div></div></div><div class=\"sk-item\"><div class=\"sk-estimator sk-toggleable\"><input class=\"sk-toggleable__control sk-hidden--visually\" id=\"07913c56-a154-45e8-9592-d25de679111d\" type=\"checkbox\" ><label for=\"07913c56-a154-45e8-9592-d25de679111d\" class=\"sk-toggleable__label sk-toggleable__label-arrow\">OneHotEncoder</label><div class=\"sk-toggleable__content\"><pre>OneHotEncoder(handle_unknown=&#x27;ignore&#x27;, sparse=False)</pre></div></div></div></div></div></div></div>"
            ]
          },
          "metadata": {},
          "execution_count": 17
        }
      ]
    },
    {
      "cell_type": "markdown",
      "source": [
        "## Instantiate ColumnTransformer"
      ],
      "metadata": {
        "id": "9HnWau6Os5zw"
      }
    },
    {
      "cell_type": "code",
      "source": [
        "# create tuples of (imputer, selector) for each datatype\n",
        "num_tuple = (numeric_pipe, num_selector)\n",
        "cat_tuple = (categorical_pipe, cat_selector)\n",
        "# instantiate ColumnTransformer\n",
        "preprocessor = make_column_transformer(num_tuple, cat_tuple, remainder='passthrough')\n",
        "preprocessor"
      ],
      "metadata": {
        "colab": {
          "base_uri": "https://localhost:8080/",
          "height": 152
        },
        "id": "o6pEGBLBtqcm",
        "outputId": "22cb56a7-5ef7-4c93-d384-d59a9ed1017f"
      },
      "execution_count": 18,
      "outputs": [
        {
          "output_type": "execute_result",
          "data": {
            "text/plain": [
              "ColumnTransformer(remainder='passthrough',\n",
              "                  transformers=[('pipeline-1',\n",
              "                                 Pipeline(steps=[('simpleimputer',\n",
              "                                                  SimpleImputer(strategy='median')),\n",
              "                                                 ('standardscaler',\n",
              "                                                  StandardScaler())]),\n",
              "                                 <sklearn.compose._column_transformer.make_column_selector object at 0x7f8b99669a90>),\n",
              "                                ('pipeline-2',\n",
              "                                 Pipeline(steps=[('simpleimputer',\n",
              "                                                  SimpleImputer(strategy='most_frequent')),\n",
              "                                                 ('onehotencoder',\n",
              "                                                  OneHotEncoder(handle_unknown='ignore',\n",
              "                                                                sparse=False))]),\n",
              "                                 <sklearn.compose._column_transformer.make_column_selector object at 0x7f8b99669d00>)])"
            ],
            "text/html": [
              "<style>#sk-1c670122-286d-444c-b976-fbe8c611a2e8 {color: black;background-color: white;}#sk-1c670122-286d-444c-b976-fbe8c611a2e8 pre{padding: 0;}#sk-1c670122-286d-444c-b976-fbe8c611a2e8 div.sk-toggleable {background-color: white;}#sk-1c670122-286d-444c-b976-fbe8c611a2e8 label.sk-toggleable__label {cursor: pointer;display: block;width: 100%;margin-bottom: 0;padding: 0.3em;box-sizing: border-box;text-align: center;}#sk-1c670122-286d-444c-b976-fbe8c611a2e8 label.sk-toggleable__label-arrow:before {content: \"▸\";float: left;margin-right: 0.25em;color: #696969;}#sk-1c670122-286d-444c-b976-fbe8c611a2e8 label.sk-toggleable__label-arrow:hover:before {color: black;}#sk-1c670122-286d-444c-b976-fbe8c611a2e8 div.sk-estimator:hover label.sk-toggleable__label-arrow:before {color: black;}#sk-1c670122-286d-444c-b976-fbe8c611a2e8 div.sk-toggleable__content {max-height: 0;max-width: 0;overflow: hidden;text-align: left;background-color: #f0f8ff;}#sk-1c670122-286d-444c-b976-fbe8c611a2e8 div.sk-toggleable__content pre {margin: 0.2em;color: black;border-radius: 0.25em;background-color: #f0f8ff;}#sk-1c670122-286d-444c-b976-fbe8c611a2e8 input.sk-toggleable__control:checked~div.sk-toggleable__content {max-height: 200px;max-width: 100%;overflow: auto;}#sk-1c670122-286d-444c-b976-fbe8c611a2e8 input.sk-toggleable__control:checked~label.sk-toggleable__label-arrow:before {content: \"▾\";}#sk-1c670122-286d-444c-b976-fbe8c611a2e8 div.sk-estimator input.sk-toggleable__control:checked~label.sk-toggleable__label {background-color: #d4ebff;}#sk-1c670122-286d-444c-b976-fbe8c611a2e8 div.sk-label input.sk-toggleable__control:checked~label.sk-toggleable__label {background-color: #d4ebff;}#sk-1c670122-286d-444c-b976-fbe8c611a2e8 input.sk-hidden--visually {border: 0;clip: rect(1px 1px 1px 1px);clip: rect(1px, 1px, 1px, 1px);height: 1px;margin: -1px;overflow: hidden;padding: 0;position: absolute;width: 1px;}#sk-1c670122-286d-444c-b976-fbe8c611a2e8 div.sk-estimator {font-family: monospace;background-color: #f0f8ff;border: 1px dotted black;border-radius: 0.25em;box-sizing: border-box;margin-bottom: 0.5em;}#sk-1c670122-286d-444c-b976-fbe8c611a2e8 div.sk-estimator:hover {background-color: #d4ebff;}#sk-1c670122-286d-444c-b976-fbe8c611a2e8 div.sk-parallel-item::after {content: \"\";width: 100%;border-bottom: 1px solid gray;flex-grow: 1;}#sk-1c670122-286d-444c-b976-fbe8c611a2e8 div.sk-label:hover label.sk-toggleable__label {background-color: #d4ebff;}#sk-1c670122-286d-444c-b976-fbe8c611a2e8 div.sk-serial::before {content: \"\";position: absolute;border-left: 1px solid gray;box-sizing: border-box;top: 2em;bottom: 0;left: 50%;}#sk-1c670122-286d-444c-b976-fbe8c611a2e8 div.sk-serial {display: flex;flex-direction: column;align-items: center;background-color: white;padding-right: 0.2em;padding-left: 0.2em;}#sk-1c670122-286d-444c-b976-fbe8c611a2e8 div.sk-item {z-index: 1;}#sk-1c670122-286d-444c-b976-fbe8c611a2e8 div.sk-parallel {display: flex;align-items: stretch;justify-content: center;background-color: white;}#sk-1c670122-286d-444c-b976-fbe8c611a2e8 div.sk-parallel::before {content: \"\";position: absolute;border-left: 1px solid gray;box-sizing: border-box;top: 2em;bottom: 0;left: 50%;}#sk-1c670122-286d-444c-b976-fbe8c611a2e8 div.sk-parallel-item {display: flex;flex-direction: column;position: relative;background-color: white;}#sk-1c670122-286d-444c-b976-fbe8c611a2e8 div.sk-parallel-item:first-child::after {align-self: flex-end;width: 50%;}#sk-1c670122-286d-444c-b976-fbe8c611a2e8 div.sk-parallel-item:last-child::after {align-self: flex-start;width: 50%;}#sk-1c670122-286d-444c-b976-fbe8c611a2e8 div.sk-parallel-item:only-child::after {width: 0;}#sk-1c670122-286d-444c-b976-fbe8c611a2e8 div.sk-dashed-wrapped {border: 1px dashed gray;margin: 0 0.4em 0.5em 0.4em;box-sizing: border-box;padding-bottom: 0.4em;background-color: white;position: relative;}#sk-1c670122-286d-444c-b976-fbe8c611a2e8 div.sk-label label {font-family: monospace;font-weight: bold;background-color: white;display: inline-block;line-height: 1.2em;}#sk-1c670122-286d-444c-b976-fbe8c611a2e8 div.sk-label-container {position: relative;z-index: 2;text-align: center;}#sk-1c670122-286d-444c-b976-fbe8c611a2e8 div.sk-container {/* jupyter's `normalize.less` sets `[hidden] { display: none; }` but bootstrap.min.css set `[hidden] { display: none !important; }` so we also need the `!important` here to be able to override the default hidden behavior on the sphinx rendered scikit-learn.org. See: https://github.com/scikit-learn/scikit-learn/issues/21755 */display: inline-block !important;position: relative;}#sk-1c670122-286d-444c-b976-fbe8c611a2e8 div.sk-text-repr-fallback {display: none;}</style><div id=\"sk-1c670122-286d-444c-b976-fbe8c611a2e8\" class=\"sk-top-container\"><div class=\"sk-text-repr-fallback\"><pre>ColumnTransformer(remainder=&#x27;passthrough&#x27;,\n",
              "                  transformers=[(&#x27;pipeline-1&#x27;,\n",
              "                                 Pipeline(steps=[(&#x27;simpleimputer&#x27;,\n",
              "                                                  SimpleImputer(strategy=&#x27;median&#x27;)),\n",
              "                                                 (&#x27;standardscaler&#x27;,\n",
              "                                                  StandardScaler())]),\n",
              "                                 &lt;sklearn.compose._column_transformer.make_column_selector object at 0x7f8b99669a90&gt;),\n",
              "                                (&#x27;pipeline-2&#x27;,\n",
              "                                 Pipeline(steps=[(&#x27;simpleimputer&#x27;,\n",
              "                                                  SimpleImputer(strategy=&#x27;most_frequent&#x27;)),\n",
              "                                                 (&#x27;onehotencoder&#x27;,\n",
              "                                                  OneHotEncoder(handle_unknown=&#x27;ignore&#x27;,\n",
              "                                                                sparse=False))]),\n",
              "                                 &lt;sklearn.compose._column_transformer.make_column_selector object at 0x7f8b99669d00&gt;)])</pre><b>Please rerun this cell to show the HTML repr or trust the notebook.</b></div><div class=\"sk-container\" hidden><div class=\"sk-item sk-dashed-wrapped\"><div class=\"sk-label-container\"><div class=\"sk-label sk-toggleable\"><input class=\"sk-toggleable__control sk-hidden--visually\" id=\"2a0a4435-f62f-4931-899a-6ec4964c8c80\" type=\"checkbox\" ><label for=\"2a0a4435-f62f-4931-899a-6ec4964c8c80\" class=\"sk-toggleable__label sk-toggleable__label-arrow\">ColumnTransformer</label><div class=\"sk-toggleable__content\"><pre>ColumnTransformer(remainder=&#x27;passthrough&#x27;,\n",
              "                  transformers=[(&#x27;pipeline-1&#x27;,\n",
              "                                 Pipeline(steps=[(&#x27;simpleimputer&#x27;,\n",
              "                                                  SimpleImputer(strategy=&#x27;median&#x27;)),\n",
              "                                                 (&#x27;standardscaler&#x27;,\n",
              "                                                  StandardScaler())]),\n",
              "                                 &lt;sklearn.compose._column_transformer.make_column_selector object at 0x7f8b99669a90&gt;),\n",
              "                                (&#x27;pipeline-2&#x27;,\n",
              "                                 Pipeline(steps=[(&#x27;simpleimputer&#x27;,\n",
              "                                                  SimpleImputer(strategy=&#x27;most_frequent&#x27;)),\n",
              "                                                 (&#x27;onehotencoder&#x27;,\n",
              "                                                  OneHotEncoder(handle_unknown=&#x27;ignore&#x27;,\n",
              "                                                                sparse=False))]),\n",
              "                                 &lt;sklearn.compose._column_transformer.make_column_selector object at 0x7f8b99669d00&gt;)])</pre></div></div></div><div class=\"sk-parallel\"><div class=\"sk-parallel-item\"><div class=\"sk-item\"><div class=\"sk-label-container\"><div class=\"sk-label sk-toggleable\"><input class=\"sk-toggleable__control sk-hidden--visually\" id=\"0b45a35f-b992-43fc-bc0a-d584b7144172\" type=\"checkbox\" ><label for=\"0b45a35f-b992-43fc-bc0a-d584b7144172\" class=\"sk-toggleable__label sk-toggleable__label-arrow\">pipeline-1</label><div class=\"sk-toggleable__content\"><pre>&lt;sklearn.compose._column_transformer.make_column_selector object at 0x7f8b99669a90&gt;</pre></div></div></div><div class=\"sk-serial\"><div class=\"sk-item\"><div class=\"sk-serial\"><div class=\"sk-item\"><div class=\"sk-estimator sk-toggleable\"><input class=\"sk-toggleable__control sk-hidden--visually\" id=\"05c17dc6-a9f7-4f3b-a2ef-a1367cb03070\" type=\"checkbox\" ><label for=\"05c17dc6-a9f7-4f3b-a2ef-a1367cb03070\" class=\"sk-toggleable__label sk-toggleable__label-arrow\">SimpleImputer</label><div class=\"sk-toggleable__content\"><pre>SimpleImputer(strategy=&#x27;median&#x27;)</pre></div></div></div><div class=\"sk-item\"><div class=\"sk-estimator sk-toggleable\"><input class=\"sk-toggleable__control sk-hidden--visually\" id=\"76d73157-779f-41ee-ab93-e3502c8bb6b9\" type=\"checkbox\" ><label for=\"76d73157-779f-41ee-ab93-e3502c8bb6b9\" class=\"sk-toggleable__label sk-toggleable__label-arrow\">StandardScaler</label><div class=\"sk-toggleable__content\"><pre>StandardScaler()</pre></div></div></div></div></div></div></div></div><div class=\"sk-parallel-item\"><div class=\"sk-item\"><div class=\"sk-label-container\"><div class=\"sk-label sk-toggleable\"><input class=\"sk-toggleable__control sk-hidden--visually\" id=\"afd10908-b36c-4768-9ee6-4f629252de66\" type=\"checkbox\" ><label for=\"afd10908-b36c-4768-9ee6-4f629252de66\" class=\"sk-toggleable__label sk-toggleable__label-arrow\">pipeline-2</label><div class=\"sk-toggleable__content\"><pre>&lt;sklearn.compose._column_transformer.make_column_selector object at 0x7f8b99669d00&gt;</pre></div></div></div><div class=\"sk-serial\"><div class=\"sk-item\"><div class=\"sk-serial\"><div class=\"sk-item\"><div class=\"sk-estimator sk-toggleable\"><input class=\"sk-toggleable__control sk-hidden--visually\" id=\"75dcc352-9dcb-41b7-a261-f8904c99b1ba\" type=\"checkbox\" ><label for=\"75dcc352-9dcb-41b7-a261-f8904c99b1ba\" class=\"sk-toggleable__label sk-toggleable__label-arrow\">SimpleImputer</label><div class=\"sk-toggleable__content\"><pre>SimpleImputer(strategy=&#x27;most_frequent&#x27;)</pre></div></div></div><div class=\"sk-item\"><div class=\"sk-estimator sk-toggleable\"><input class=\"sk-toggleable__control sk-hidden--visually\" id=\"7e5f521e-d11b-49ff-bba9-5e3864c56aa3\" type=\"checkbox\" ><label for=\"7e5f521e-d11b-49ff-bba9-5e3864c56aa3\" class=\"sk-toggleable__label sk-toggleable__label-arrow\">OneHotEncoder</label><div class=\"sk-toggleable__content\"><pre>OneHotEncoder(handle_unknown=&#x27;ignore&#x27;, sparse=False)</pre></div></div></div></div></div></div></div></div><div class=\"sk-parallel-item\"><div class=\"sk-item\"><div class=\"sk-label-container\"><div class=\"sk-label sk-toggleable\"><input class=\"sk-toggleable__control sk-hidden--visually\" id=\"8b099114-525e-4ea5-93c7-82f5a9487497\" type=\"checkbox\" ><label for=\"8b099114-525e-4ea5-93c7-82f5a9487497\" class=\"sk-toggleable__label sk-toggleable__label-arrow\">remainder</label><div class=\"sk-toggleable__content\"><pre></pre></div></div></div><div class=\"sk-serial\"><div class=\"sk-item\"><div class=\"sk-estimator sk-toggleable\"><input class=\"sk-toggleable__control sk-hidden--visually\" id=\"e3b067dd-bab8-4fc3-bc0b-8add54bb86a3\" type=\"checkbox\" ><label for=\"e3b067dd-bab8-4fc3-bc0b-8add54bb86a3\" class=\"sk-toggleable__label sk-toggleable__label-arrow\">passthrough</label><div class=\"sk-toggleable__content\"><pre>passthrough</pre></div></div></div></div></div></div></div></div></div></div>"
            ]
          },
          "metadata": {},
          "execution_count": 18
        }
      ]
    },
    {
      "cell_type": "markdown",
      "source": [
        "## Transform Data"
      ],
      "metadata": {
        "id": "poVE02dnQG2w"
      }
    },
    {
      "cell_type": "code",
      "source": [
        "# fit on train\n",
        "preprocessor.fit(X_train)"
      ],
      "metadata": {
        "colab": {
          "base_uri": "https://localhost:8080/",
          "height": 152
        },
        "id": "tfvK2QGmQIbs",
        "outputId": "fd10109e-53b3-453e-f7bb-97f81d601970"
      },
      "execution_count": 19,
      "outputs": [
        {
          "output_type": "execute_result",
          "data": {
            "text/plain": [
              "ColumnTransformer(remainder='passthrough',\n",
              "                  transformers=[('pipeline-1',\n",
              "                                 Pipeline(steps=[('simpleimputer',\n",
              "                                                  SimpleImputer(strategy='median')),\n",
              "                                                 ('standardscaler',\n",
              "                                                  StandardScaler())]),\n",
              "                                 <sklearn.compose._column_transformer.make_column_selector object at 0x7f8b99669a90>),\n",
              "                                ('pipeline-2',\n",
              "                                 Pipeline(steps=[('simpleimputer',\n",
              "                                                  SimpleImputer(strategy='most_frequent')),\n",
              "                                                 ('onehotencoder',\n",
              "                                                  OneHotEncoder(handle_unknown='ignore',\n",
              "                                                                sparse=False))]),\n",
              "                                 <sklearn.compose._column_transformer.make_column_selector object at 0x7f8b99669d00>)])"
            ],
            "text/html": [
              "<style>#sk-30dcbd2c-97ef-4ad9-86bf-13882796d326 {color: black;background-color: white;}#sk-30dcbd2c-97ef-4ad9-86bf-13882796d326 pre{padding: 0;}#sk-30dcbd2c-97ef-4ad9-86bf-13882796d326 div.sk-toggleable {background-color: white;}#sk-30dcbd2c-97ef-4ad9-86bf-13882796d326 label.sk-toggleable__label {cursor: pointer;display: block;width: 100%;margin-bottom: 0;padding: 0.3em;box-sizing: border-box;text-align: center;}#sk-30dcbd2c-97ef-4ad9-86bf-13882796d326 label.sk-toggleable__label-arrow:before {content: \"▸\";float: left;margin-right: 0.25em;color: #696969;}#sk-30dcbd2c-97ef-4ad9-86bf-13882796d326 label.sk-toggleable__label-arrow:hover:before {color: black;}#sk-30dcbd2c-97ef-4ad9-86bf-13882796d326 div.sk-estimator:hover label.sk-toggleable__label-arrow:before {color: black;}#sk-30dcbd2c-97ef-4ad9-86bf-13882796d326 div.sk-toggleable__content {max-height: 0;max-width: 0;overflow: hidden;text-align: left;background-color: #f0f8ff;}#sk-30dcbd2c-97ef-4ad9-86bf-13882796d326 div.sk-toggleable__content pre {margin: 0.2em;color: black;border-radius: 0.25em;background-color: #f0f8ff;}#sk-30dcbd2c-97ef-4ad9-86bf-13882796d326 input.sk-toggleable__control:checked~div.sk-toggleable__content {max-height: 200px;max-width: 100%;overflow: auto;}#sk-30dcbd2c-97ef-4ad9-86bf-13882796d326 input.sk-toggleable__control:checked~label.sk-toggleable__label-arrow:before {content: \"▾\";}#sk-30dcbd2c-97ef-4ad9-86bf-13882796d326 div.sk-estimator input.sk-toggleable__control:checked~label.sk-toggleable__label {background-color: #d4ebff;}#sk-30dcbd2c-97ef-4ad9-86bf-13882796d326 div.sk-label input.sk-toggleable__control:checked~label.sk-toggleable__label {background-color: #d4ebff;}#sk-30dcbd2c-97ef-4ad9-86bf-13882796d326 input.sk-hidden--visually {border: 0;clip: rect(1px 1px 1px 1px);clip: rect(1px, 1px, 1px, 1px);height: 1px;margin: -1px;overflow: hidden;padding: 0;position: absolute;width: 1px;}#sk-30dcbd2c-97ef-4ad9-86bf-13882796d326 div.sk-estimator {font-family: monospace;background-color: #f0f8ff;border: 1px dotted black;border-radius: 0.25em;box-sizing: border-box;margin-bottom: 0.5em;}#sk-30dcbd2c-97ef-4ad9-86bf-13882796d326 div.sk-estimator:hover {background-color: #d4ebff;}#sk-30dcbd2c-97ef-4ad9-86bf-13882796d326 div.sk-parallel-item::after {content: \"\";width: 100%;border-bottom: 1px solid gray;flex-grow: 1;}#sk-30dcbd2c-97ef-4ad9-86bf-13882796d326 div.sk-label:hover label.sk-toggleable__label {background-color: #d4ebff;}#sk-30dcbd2c-97ef-4ad9-86bf-13882796d326 div.sk-serial::before {content: \"\";position: absolute;border-left: 1px solid gray;box-sizing: border-box;top: 2em;bottom: 0;left: 50%;}#sk-30dcbd2c-97ef-4ad9-86bf-13882796d326 div.sk-serial {display: flex;flex-direction: column;align-items: center;background-color: white;padding-right: 0.2em;padding-left: 0.2em;}#sk-30dcbd2c-97ef-4ad9-86bf-13882796d326 div.sk-item {z-index: 1;}#sk-30dcbd2c-97ef-4ad9-86bf-13882796d326 div.sk-parallel {display: flex;align-items: stretch;justify-content: center;background-color: white;}#sk-30dcbd2c-97ef-4ad9-86bf-13882796d326 div.sk-parallel::before {content: \"\";position: absolute;border-left: 1px solid gray;box-sizing: border-box;top: 2em;bottom: 0;left: 50%;}#sk-30dcbd2c-97ef-4ad9-86bf-13882796d326 div.sk-parallel-item {display: flex;flex-direction: column;position: relative;background-color: white;}#sk-30dcbd2c-97ef-4ad9-86bf-13882796d326 div.sk-parallel-item:first-child::after {align-self: flex-end;width: 50%;}#sk-30dcbd2c-97ef-4ad9-86bf-13882796d326 div.sk-parallel-item:last-child::after {align-self: flex-start;width: 50%;}#sk-30dcbd2c-97ef-4ad9-86bf-13882796d326 div.sk-parallel-item:only-child::after {width: 0;}#sk-30dcbd2c-97ef-4ad9-86bf-13882796d326 div.sk-dashed-wrapped {border: 1px dashed gray;margin: 0 0.4em 0.5em 0.4em;box-sizing: border-box;padding-bottom: 0.4em;background-color: white;position: relative;}#sk-30dcbd2c-97ef-4ad9-86bf-13882796d326 div.sk-label label {font-family: monospace;font-weight: bold;background-color: white;display: inline-block;line-height: 1.2em;}#sk-30dcbd2c-97ef-4ad9-86bf-13882796d326 div.sk-label-container {position: relative;z-index: 2;text-align: center;}#sk-30dcbd2c-97ef-4ad9-86bf-13882796d326 div.sk-container {/* jupyter's `normalize.less` sets `[hidden] { display: none; }` but bootstrap.min.css set `[hidden] { display: none !important; }` so we also need the `!important` here to be able to override the default hidden behavior on the sphinx rendered scikit-learn.org. See: https://github.com/scikit-learn/scikit-learn/issues/21755 */display: inline-block !important;position: relative;}#sk-30dcbd2c-97ef-4ad9-86bf-13882796d326 div.sk-text-repr-fallback {display: none;}</style><div id=\"sk-30dcbd2c-97ef-4ad9-86bf-13882796d326\" class=\"sk-top-container\"><div class=\"sk-text-repr-fallback\"><pre>ColumnTransformer(remainder=&#x27;passthrough&#x27;,\n",
              "                  transformers=[(&#x27;pipeline-1&#x27;,\n",
              "                                 Pipeline(steps=[(&#x27;simpleimputer&#x27;,\n",
              "                                                  SimpleImputer(strategy=&#x27;median&#x27;)),\n",
              "                                                 (&#x27;standardscaler&#x27;,\n",
              "                                                  StandardScaler())]),\n",
              "                                 &lt;sklearn.compose._column_transformer.make_column_selector object at 0x7f8b99669a90&gt;),\n",
              "                                (&#x27;pipeline-2&#x27;,\n",
              "                                 Pipeline(steps=[(&#x27;simpleimputer&#x27;,\n",
              "                                                  SimpleImputer(strategy=&#x27;most_frequent&#x27;)),\n",
              "                                                 (&#x27;onehotencoder&#x27;,\n",
              "                                                  OneHotEncoder(handle_unknown=&#x27;ignore&#x27;,\n",
              "                                                                sparse=False))]),\n",
              "                                 &lt;sklearn.compose._column_transformer.make_column_selector object at 0x7f8b99669d00&gt;)])</pre><b>Please rerun this cell to show the HTML repr or trust the notebook.</b></div><div class=\"sk-container\" hidden><div class=\"sk-item sk-dashed-wrapped\"><div class=\"sk-label-container\"><div class=\"sk-label sk-toggleable\"><input class=\"sk-toggleable__control sk-hidden--visually\" id=\"bbff978e-897e-48a5-85fb-2b865b05763a\" type=\"checkbox\" ><label for=\"bbff978e-897e-48a5-85fb-2b865b05763a\" class=\"sk-toggleable__label sk-toggleable__label-arrow\">ColumnTransformer</label><div class=\"sk-toggleable__content\"><pre>ColumnTransformer(remainder=&#x27;passthrough&#x27;,\n",
              "                  transformers=[(&#x27;pipeline-1&#x27;,\n",
              "                                 Pipeline(steps=[(&#x27;simpleimputer&#x27;,\n",
              "                                                  SimpleImputer(strategy=&#x27;median&#x27;)),\n",
              "                                                 (&#x27;standardscaler&#x27;,\n",
              "                                                  StandardScaler())]),\n",
              "                                 &lt;sklearn.compose._column_transformer.make_column_selector object at 0x7f8b99669a90&gt;),\n",
              "                                (&#x27;pipeline-2&#x27;,\n",
              "                                 Pipeline(steps=[(&#x27;simpleimputer&#x27;,\n",
              "                                                  SimpleImputer(strategy=&#x27;most_frequent&#x27;)),\n",
              "                                                 (&#x27;onehotencoder&#x27;,\n",
              "                                                  OneHotEncoder(handle_unknown=&#x27;ignore&#x27;,\n",
              "                                                                sparse=False))]),\n",
              "                                 &lt;sklearn.compose._column_transformer.make_column_selector object at 0x7f8b99669d00&gt;)])</pre></div></div></div><div class=\"sk-parallel\"><div class=\"sk-parallel-item\"><div class=\"sk-item\"><div class=\"sk-label-container\"><div class=\"sk-label sk-toggleable\"><input class=\"sk-toggleable__control sk-hidden--visually\" id=\"ee6bc10d-5c29-4eee-9ccb-04b0fa962514\" type=\"checkbox\" ><label for=\"ee6bc10d-5c29-4eee-9ccb-04b0fa962514\" class=\"sk-toggleable__label sk-toggleable__label-arrow\">pipeline-1</label><div class=\"sk-toggleable__content\"><pre>&lt;sklearn.compose._column_transformer.make_column_selector object at 0x7f8b99669a90&gt;</pre></div></div></div><div class=\"sk-serial\"><div class=\"sk-item\"><div class=\"sk-serial\"><div class=\"sk-item\"><div class=\"sk-estimator sk-toggleable\"><input class=\"sk-toggleable__control sk-hidden--visually\" id=\"dde03532-b0f4-4d64-b134-67a55bdb8586\" type=\"checkbox\" ><label for=\"dde03532-b0f4-4d64-b134-67a55bdb8586\" class=\"sk-toggleable__label sk-toggleable__label-arrow\">SimpleImputer</label><div class=\"sk-toggleable__content\"><pre>SimpleImputer(strategy=&#x27;median&#x27;)</pre></div></div></div><div class=\"sk-item\"><div class=\"sk-estimator sk-toggleable\"><input class=\"sk-toggleable__control sk-hidden--visually\" id=\"10d75533-8301-4909-bd9d-177c54a3fd51\" type=\"checkbox\" ><label for=\"10d75533-8301-4909-bd9d-177c54a3fd51\" class=\"sk-toggleable__label sk-toggleable__label-arrow\">StandardScaler</label><div class=\"sk-toggleable__content\"><pre>StandardScaler()</pre></div></div></div></div></div></div></div></div><div class=\"sk-parallel-item\"><div class=\"sk-item\"><div class=\"sk-label-container\"><div class=\"sk-label sk-toggleable\"><input class=\"sk-toggleable__control sk-hidden--visually\" id=\"156c0e1d-2634-43b2-b444-fdd08593912a\" type=\"checkbox\" ><label for=\"156c0e1d-2634-43b2-b444-fdd08593912a\" class=\"sk-toggleable__label sk-toggleable__label-arrow\">pipeline-2</label><div class=\"sk-toggleable__content\"><pre>&lt;sklearn.compose._column_transformer.make_column_selector object at 0x7f8b99669d00&gt;</pre></div></div></div><div class=\"sk-serial\"><div class=\"sk-item\"><div class=\"sk-serial\"><div class=\"sk-item\"><div class=\"sk-estimator sk-toggleable\"><input class=\"sk-toggleable__control sk-hidden--visually\" id=\"c99fc3fe-648e-431c-b32e-bd21c9dec932\" type=\"checkbox\" ><label for=\"c99fc3fe-648e-431c-b32e-bd21c9dec932\" class=\"sk-toggleable__label sk-toggleable__label-arrow\">SimpleImputer</label><div class=\"sk-toggleable__content\"><pre>SimpleImputer(strategy=&#x27;most_frequent&#x27;)</pre></div></div></div><div class=\"sk-item\"><div class=\"sk-estimator sk-toggleable\"><input class=\"sk-toggleable__control sk-hidden--visually\" id=\"85a609c8-f1fe-49e2-9456-71f2a88d2475\" type=\"checkbox\" ><label for=\"85a609c8-f1fe-49e2-9456-71f2a88d2475\" class=\"sk-toggleable__label sk-toggleable__label-arrow\">OneHotEncoder</label><div class=\"sk-toggleable__content\"><pre>OneHotEncoder(handle_unknown=&#x27;ignore&#x27;, sparse=False)</pre></div></div></div></div></div></div></div></div><div class=\"sk-parallel-item\"><div class=\"sk-item\"><div class=\"sk-label-container\"><div class=\"sk-label sk-toggleable\"><input class=\"sk-toggleable__control sk-hidden--visually\" id=\"237f8f4b-607f-4321-b8d3-e2577691a543\" type=\"checkbox\" ><label for=\"237f8f4b-607f-4321-b8d3-e2577691a543\" class=\"sk-toggleable__label sk-toggleable__label-arrow\">remainder</label><div class=\"sk-toggleable__content\"><pre>[]</pre></div></div></div><div class=\"sk-serial\"><div class=\"sk-item\"><div class=\"sk-estimator sk-toggleable\"><input class=\"sk-toggleable__control sk-hidden--visually\" id=\"e15d61b4-dd49-4175-9a8b-de738f8ebea7\" type=\"checkbox\" ><label for=\"e15d61b4-dd49-4175-9a8b-de738f8ebea7\" class=\"sk-toggleable__label sk-toggleable__label-arrow\">passthrough</label><div class=\"sk-toggleable__content\"><pre>passthrough</pre></div></div></div></div></div></div></div></div></div></div>"
            ]
          },
          "metadata": {},
          "execution_count": 19
        }
      ]
    },
    {
      "cell_type": "code",
      "source": [
        "# transform train and test\n",
        "X_train_processed = preprocessor.transform(X_train)\n",
        "X_test_processed = preprocessor.transform(X_test)\n",
        "                                           "
      ],
      "metadata": {
        "id": "-eIbPnFJRiqH"
      },
      "execution_count": 20,
      "outputs": []
    },
    {
      "cell_type": "markdown",
      "source": [
        "## Results"
      ],
      "metadata": {
        "id": "UA3QdKBaQIig"
      }
    },
    {
      "cell_type": "code",
      "source": [
        "# Check for missing values and that data is scaled and one-hot encoded\n",
        "print(np.isnan(X_train_processed).sum().sum(), 'missing values in training data')\n",
        "print(np.isnan(X_test_processed).sum().sum(), 'missing values in testing data')\n",
        "print('\\n')\n",
        "print('All data in X_train_processed are', X_train_processed.dtype)\n",
        "print('All data in X_test_processed are', X_test_processed.dtype)\n",
        "print('\\n')\n",
        "print('shape of data is', X_train_processed.shape)\n",
        "print('\\n')\n",
        "X_train_processed"
      ],
      "metadata": {
        "colab": {
          "base_uri": "https://localhost:8080/"
        },
        "id": "dGAM3CUNRyFj",
        "outputId": "b65e0b62-e4d7-43ae-acb3-e76be148cd8c"
      },
      "execution_count": 21,
      "outputs": [
        {
          "output_type": "stream",
          "name": "stdout",
          "text": [
            "0 missing values in training data\n",
            "0 missing values in testing data\n",
            "\n",
            "\n",
            "All data in X_train_processed are float64\n",
            "All data in X_test_processed are float64\n",
            "\n",
            "\n",
            "shape of data is (6392, 1593)\n",
            "\n",
            "\n"
          ]
        },
        {
          "output_type": "execute_result",
          "data": {
            "text/plain": [
              "array([[ 0.82748547, -0.71277507,  1.82810922, ...,  0.        ,\n",
              "         1.        ,  0.        ],\n",
              "       [ 0.56664432, -1.29105225,  0.60336888, ...,  0.        ,\n",
              "         1.        ,  0.        ],\n",
              "       [-0.12102782,  1.81331864,  0.24454056, ...,  1.        ,\n",
              "         0.        ,  0.        ],\n",
              "       ...,\n",
              "       [ 1.12389588, -0.92052713,  1.52302674, ...,  1.        ,\n",
              "         0.        ,  0.        ],\n",
              "       [ 1.77599877, -0.2277552 , -0.38377708, ...,  1.        ,\n",
              "         0.        ,  0.        ],\n",
              "       [ 0.82748547, -0.95867683, -0.73836105, ...,  1.        ,\n",
              "         0.        ,  0.        ]])"
            ]
          },
          "metadata": {},
          "execution_count": 21
        }
      ]
    }
  ]
}